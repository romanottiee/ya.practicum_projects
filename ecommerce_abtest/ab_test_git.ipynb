{
 "cells": [
  {
   "cell_type": "markdown",
   "metadata": {},
   "source": [
    "# Исследование гипотез для увеличения выручки интернет-магазина\n",
    "\n",
    "В моем распоряжении данные по гипотезам, сформулированым совместно с отделом маркетинга интернет-магазина, а также данные по заказам и посещаемости. Моя задача — отобрать наиболее перспективные гипотезы, выполнить для них A/B-тест и проанализировать результаты, чтобы понять, какие из них позволят увеличить выручку.\n",
    "\n",
    "Цель исследования:\n",
    "1. Отобрать наиболее перспективные гипотезы из числа сформулированных;\n",
    "2. Проанализировать результаты A/B-теста;\n",
    "3. Дать рекомендации.\n",
    "\n",
    "Ход исследования:\n",
    "\n",
    "Данные о гипотезах я получу из файла `hypothesis.csv`. Данные о заказах и посещаемости - из файлов `orders.csv` и `visitors.csv`, соответственно.\n",
    "\n",
    "Таким образом, мое исследование пройдет в три этапа:\n",
    "- Приоритезация гипотез;\n",
    "- Анализ A/B-теста с предварительной проверкой/обработкой данных;\n",
    "- Написание общих рекомендаций."
   ]
  },
  {
   "cell_type": "markdown",
   "metadata": {},
   "source": [
    "<h1>Содержание<span class=\"tocSkip\"></span></h1>\n",
    "<div class=\"toc\"><ul class=\"toc-item\"><li><span><a href=\"#Приоритезация-гипотез\" data-toc-modified-id=\"Приоритезация-гипотез-1\"><span class=\"toc-item-num\">1&nbsp;&nbsp;</span>Приоритезация гипотез</a></span><ul class=\"toc-item\"><li><span><a href=\"#Приоритезация-через-фреймворк-ICE\" data-toc-modified-id=\"Приоритезация-через-фреймворк-ICE-1.1\"><span class=\"toc-item-num\">1.1&nbsp;&nbsp;</span>Приоритезация через фреймворк ICE</a></span></li><li><span><a href=\"#Приоритезация-через-фреймворк-RICE\" data-toc-modified-id=\"Приоритезация-через-фреймворк-RICE-1.2\"><span class=\"toc-item-num\">1.2&nbsp;&nbsp;</span>Приоритезация через фреймворк RICE</a></span></li></ul></li><li><span><a href=\"#Анализ-A/B-теста\" data-toc-modified-id=\"Анализ-A/B-теста-2\"><span class=\"toc-item-num\">2&nbsp;&nbsp;</span>Анализ A/B-теста</a></span><ul class=\"toc-item\"><li><span><a href=\"#Предварительная-проверка-данных\" data-toc-modified-id=\"Предварительная-проверка-данных-2.1\"><span class=\"toc-item-num\">2.1&nbsp;&nbsp;</span>Предварительная проверка данных</a></span><ul class=\"toc-item\"><li><span><a href=\"#Количество-групп-в-A/B-тесте\" data-toc-modified-id=\"Количество-групп-в-A/B-тесте-2.1.1\"><span class=\"toc-item-num\">2.1.1&nbsp;&nbsp;</span>Количество групп в A/B-тесте</a></span></li><li><span><a href=\"#Количество-пользователей-в-каждой-группе\" data-toc-modified-id=\"Количество-пользователей-в-каждой-группе-2.1.2\"><span class=\"toc-item-num\">2.1.2&nbsp;&nbsp;</span>Количество пользователей в каждой группе</a></span></li><li><span><a href=\"#Временные-границы-исследования\" data-toc-modified-id=\"Временные-границы-исследования-2.1.3\"><span class=\"toc-item-num\">2.1.3&nbsp;&nbsp;</span>Временные границы исследования</a></span></li><li><span><a href=\"#Проверка-на-пересечение-пользователей-между-группами\" data-toc-modified-id=\"Проверка-на-пересечение-пользователей-между-группами-2.1.4\"><span class=\"toc-item-num\">2.1.4&nbsp;&nbsp;</span>Проверка на пересечение пользователей между группами</a></span></li><li><span><a href=\"#Проверка-на-наличие-пропусков-в-данных\" data-toc-modified-id=\"Проверка-на-наличие-пропусков-в-данных-2.1.5\"><span class=\"toc-item-num\">2.1.5&nbsp;&nbsp;</span>Проверка на наличие пропусков в данных</a></span></li><li><span><a href=\"#Проверка-на-наличие-дубликатов-в-данных\" data-toc-modified-id=\"Проверка-на-наличие-дубликатов-в-данных-2.1.6\"><span class=\"toc-item-num\">2.1.6&nbsp;&nbsp;</span>Проверка на наличие дубликатов в данных</a></span></li></ul></li><li><span><a href=\"#Кумулятивная-выручка-по-группам\" data-toc-modified-id=\"Кумулятивная-выручка-по-группам-2.2\"><span class=\"toc-item-num\">2.2&nbsp;&nbsp;</span>Кумулятивная выручка по группам</a></span></li><li><span><a href=\"#Кумулятивный-средний-чек-по-группам\" data-toc-modified-id=\"Кумулятивный-средний-чек-по-группам-2.3\"><span class=\"toc-item-num\">2.3&nbsp;&nbsp;</span>Кумулятивный средний чек по группам</a></span></li><li><span><a href=\"#Относительное-изменение-кумулятивного-среднего-чека-группы-B-к-группе-A\" data-toc-modified-id=\"Относительное-изменение-кумулятивного-среднего-чека-группы-B-к-группе-A-2.4\"><span class=\"toc-item-num\">2.4&nbsp;&nbsp;</span>Относительное изменение кумулятивного среднего чека группы B к группе A</a></span></li><li><span><a href=\"#Кумулятивное-среднее-количество-заказов-на-посетителя\" data-toc-modified-id=\"Кумулятивное-среднее-количество-заказов-на-посетителя-2.5\"><span class=\"toc-item-num\">2.5&nbsp;&nbsp;</span>Кумулятивное среднее количество заказов на посетителя</a></span></li><li><span><a href=\"#Относительное-изменение-кумулятивного-среднего-количества-заказов-на-посетителя-группы-B-к-группе-A\" data-toc-modified-id=\"Относительное-изменение-кумулятивного-среднего-количества-заказов-на-посетителя-группы-B-к-группе-A-2.6\"><span class=\"toc-item-num\">2.6&nbsp;&nbsp;</span>Относительное изменение кумулятивного среднего количества заказов на посетителя группы B к группе A</a></span></li><li><span><a href=\"#Точечный-график-количества-заказов-по-пользователям\" data-toc-modified-id=\"Точечный-график-количества-заказов-по-пользователям-2.7\"><span class=\"toc-item-num\">2.7&nbsp;&nbsp;</span>Точечный график количества заказов по пользователям</a></span></li><li><span><a href=\"#95-й-и-99-й-перцентили-количества-заказов-на-пользователя\" data-toc-modified-id=\"95-й-и-99-й-перцентили-количества-заказов-на-пользователя-2.8\"><span class=\"toc-item-num\">2.8&nbsp;&nbsp;</span>95-й и 99-й перцентили количества заказов на пользователя</a></span></li><li><span><a href=\"#Точечный-график-стоимостей-заказов\" data-toc-modified-id=\"Точечный-график-стоимостей-заказов-2.9\"><span class=\"toc-item-num\">2.9&nbsp;&nbsp;</span>Точечный график стоимостей заказов</a></span></li><li><span><a href=\"#95-й-и-99-й-перцентили-стоимости-заказов\" data-toc-modified-id=\"95-й-и-99-й-перцентили-стоимости-заказов-2.10\"><span class=\"toc-item-num\">2.10&nbsp;&nbsp;</span>95-й и 99-й перцентили стоимости заказов</a></span></li><li><span><a href=\"#Расчет-статистической-значимости-различий-в-среднем-количестве-заказов-на-посетителя-между-группами-по-«сырым»-данным\" data-toc-modified-id=\"Расчет-статистической-значимости-различий-в-среднем-количестве-заказов-на-посетителя-между-группами-по-«сырым»-данным-2.11\"><span class=\"toc-item-num\">2.11&nbsp;&nbsp;</span>Расчет статистической значимости различий в среднем количестве заказов на посетителя между группами по «сырым» данным</a></span></li><li><span><a href=\"#Расчет-статистической-значимости-различий-в-среднем-чеке-заказа-между-группами-по-«сырым»-данным\" data-toc-modified-id=\"Расчет-статистической-значимости-различий-в-среднем-чеке-заказа-между-группами-по-«сырым»-данным-2.12\"><span class=\"toc-item-num\">2.12&nbsp;&nbsp;</span>Расчет статистической значимости различий в среднем чеке заказа между группами по «сырым» данным</a></span></li><li><span><a href=\"#Расчет-статистической-значимости-различий-в-среднем-количестве-заказов-на-посетителя-между-группами-по-«очищенным»-данным\" data-toc-modified-id=\"Расчет-статистической-значимости-различий-в-среднем-количестве-заказов-на-посетителя-между-группами-по-«очищенным»-данным-2.13\"><span class=\"toc-item-num\">2.13&nbsp;&nbsp;</span>Расчет статистической значимости различий в среднем количестве заказов на посетителя между группами по «очищенным» данным</a></span></li><li><span><a href=\"#Расчет-статистической-значимости-различий-в-среднем-чеке-заказа-между-группами-по-«очищенным»-данным\" data-toc-modified-id=\"Расчет-статистической-значимости-различий-в-среднем-чеке-заказа-между-группами-по-«очищенным»-данным-2.14\"><span class=\"toc-item-num\">2.14&nbsp;&nbsp;</span>Расчет статистической значимости различий в среднем чеке заказа между группами по «очищенным» данным</a></span></li></ul></li><li><span><a href=\"#Выводы-и-общие-рекомендации\" data-toc-modified-id=\"Выводы-и-общие-рекомендации-3\"><span class=\"toc-item-num\">3&nbsp;&nbsp;</span>Выводы и общие рекомендации</a></span></li></ul></div>"
   ]
  },
  {
   "cell_type": "markdown",
   "metadata": {},
   "source": [
    "### Приоритезация гипотез"
   ]
  },
  {
   "cell_type": "code",
   "execution_count": 1,
   "metadata": {},
   "outputs": [],
   "source": [
    "import pandas as pd"
   ]
  },
  {
   "cell_type": "code",
   "execution_count": 2,
   "metadata": {},
   "outputs": [
    {
     "name": "stdout",
     "output_type": "stream",
     "text": [
      "                                          Hypothesis  Reach  Impact  \\\n",
      "0  Добавить два новых канала привлечения трафика,...      3      10   \n",
      "1  Запустить собственную службу доставки, что сок...      2       5   \n",
      "2  Добавить блоки рекомендаций товаров на сайт ин...      8       3   \n",
      "3  Изменить структура категорий, что увеличит кон...      8       3   \n",
      "4  Изменить цвет фона главной страницы, чтобы уве...      3       1   \n",
      "5  Добавить страницу отзывов клиентов о магазине,...      3       2   \n",
      "6  Показать на главной странице баннеры с актуаль...      5       3   \n",
      "7  Добавить форму подписки на все основные страни...     10       7   \n",
      "8  Запустить акцию, дающую скидку на товар в день...      1       9   \n",
      "\n",
      "   Confidence  Efforts  \n",
      "0           8        6  \n",
      "1           4       10  \n",
      "2           7        3  \n",
      "3           3        8  \n",
      "4           1        1  \n",
      "5           2        3  \n",
      "6           8        3  \n",
      "7           8        5  \n",
      "8           9        5  \n"
     ]
    }
   ],
   "source": [
    "try:\n",
    "    hypo = pd.read_csv('C:/Users/FORTREZZA/Desktop/Курс Дата-аналитика (Яндекс)/9. Принятие решений в бизнесе (A-B тест)/hypothesis.csv')\n",
    "    print(hypo)\n",
    "except:\n",
    "    'File Not Found'"
   ]
  },
  {
   "cell_type": "code",
   "execution_count": 3,
   "metadata": {},
   "outputs": [],
   "source": [
    "hypo.columns = hypo.columns.str.lower() #приведем заголовки столбцов к нижнему регситру"
   ]
  },
  {
   "cell_type": "markdown",
   "metadata": {},
   "source": [
    "#### Приоритезация через фреймворк ICE"
   ]
  },
  {
   "cell_type": "markdown",
   "metadata": {},
   "source": [
    "Воспользуемся формулой для расчета ICE:"
   ]
  },
  {
   "cell_type": "markdown",
   "metadata": {},
   "source": [
    "</ul></div> <br>\n",
    "\n",
    "$$ICE = \\frac{Impact * Confidence}{Efforts}$$"
   ]
  },
  {
   "cell_type": "markdown",
   "metadata": {},
   "source": [
    "где Impact - степень влияния изменения на пользователей, Confidence - уверенность в том, что изменение повлияет именно так, Efforts - стоимость тестирования гипотезы."
   ]
  },
  {
   "cell_type": "code",
   "execution_count": 4,
   "metadata": {},
   "outputs": [
    {
     "data": {
      "text/html": [
       "<div>\n",
       "<style scoped>\n",
       "    .dataframe tbody tr th:only-of-type {\n",
       "        vertical-align: middle;\n",
       "    }\n",
       "\n",
       "    .dataframe tbody tr th {\n",
       "        vertical-align: top;\n",
       "    }\n",
       "\n",
       "    .dataframe thead th {\n",
       "        text-align: right;\n",
       "    }\n",
       "</style>\n",
       "<table border=\"1\" class=\"dataframe\">\n",
       "  <thead>\n",
       "    <tr style=\"text-align: right;\">\n",
       "      <th></th>\n",
       "      <th>hypothesis</th>\n",
       "      <th>ICE</th>\n",
       "    </tr>\n",
       "  </thead>\n",
       "  <tbody>\n",
       "    <tr>\n",
       "      <th>8</th>\n",
       "      <td>Запустить акцию, дающую скидку на товар в день рождения</td>\n",
       "      <td>16.2</td>\n",
       "    </tr>\n",
       "    <tr>\n",
       "      <th>0</th>\n",
       "      <td>Добавить два новых канала привлечения трафика, что позволит привлекать на 30% больше пользователей</td>\n",
       "      <td>13.3</td>\n",
       "    </tr>\n",
       "    <tr>\n",
       "      <th>7</th>\n",
       "      <td>Добавить форму подписки на все основные страницы, чтобы собрать базу клиентов для email-рассылок</td>\n",
       "      <td>11.2</td>\n",
       "    </tr>\n",
       "    <tr>\n",
       "      <th>6</th>\n",
       "      <td>Показать на главной странице баннеры с актуальными акциями и распродажами, чтобы увеличить конверсию</td>\n",
       "      <td>8.0</td>\n",
       "    </tr>\n",
       "    <tr>\n",
       "      <th>2</th>\n",
       "      <td>Добавить блоки рекомендаций товаров на сайт интернет магазина, чтобы повысить конверсию и средний чек заказа</td>\n",
       "      <td>7.0</td>\n",
       "    </tr>\n",
       "    <tr>\n",
       "      <th>1</th>\n",
       "      <td>Запустить собственную службу доставки, что сократит срок доставки заказов</td>\n",
       "      <td>2.0</td>\n",
       "    </tr>\n",
       "    <tr>\n",
       "      <th>5</th>\n",
       "      <td>Добавить страницу отзывов клиентов о магазине, что позволит увеличить количество заказов</td>\n",
       "      <td>1.3</td>\n",
       "    </tr>\n",
       "    <tr>\n",
       "      <th>3</th>\n",
       "      <td>Изменить структура категорий, что увеличит конверсию, т.к. пользователи быстрее найдут нужный товар</td>\n",
       "      <td>1.1</td>\n",
       "    </tr>\n",
       "    <tr>\n",
       "      <th>4</th>\n",
       "      <td>Изменить цвет фона главной страницы, чтобы увеличить вовлеченность пользователей</td>\n",
       "      <td>1.0</td>\n",
       "    </tr>\n",
       "  </tbody>\n",
       "</table>\n",
       "</div>"
      ],
      "text/plain": [
       "                                                                                                     hypothesis  \\\n",
       "8                                                       Запустить акцию, дающую скидку на товар в день рождения   \n",
       "0            Добавить два новых канала привлечения трафика, что позволит привлекать на 30% больше пользователей   \n",
       "7              Добавить форму подписки на все основные страницы, чтобы собрать базу клиентов для email-рассылок   \n",
       "6          Показать на главной странице баннеры с актуальными акциями и распродажами, чтобы увеличить конверсию   \n",
       "2  Добавить блоки рекомендаций товаров на сайт интернет магазина, чтобы повысить конверсию и средний чек заказа   \n",
       "1                                     Запустить собственную службу доставки, что сократит срок доставки заказов   \n",
       "5                      Добавить страницу отзывов клиентов о магазине, что позволит увеличить количество заказов   \n",
       "3           Изменить структура категорий, что увеличит конверсию, т.к. пользователи быстрее найдут нужный товар   \n",
       "4                              Изменить цвет фона главной страницы, чтобы увеличить вовлеченность пользователей   \n",
       "\n",
       "    ICE  \n",
       "8  16.2  \n",
       "0  13.3  \n",
       "7  11.2  \n",
       "6   8.0  \n",
       "2   7.0  \n",
       "1   2.0  \n",
       "5   1.3  \n",
       "3   1.1  \n",
       "4   1.0  "
      ]
     },
     "execution_count": 4,
     "metadata": {},
     "output_type": "execute_result"
    }
   ],
   "source": [
    "pd.set_option(\"max_colwidth\", 800)\n",
    "\n",
    "hypo['ICE'] = round((hypo['impact'] * hypo['confidence']) / hypo['efforts'], 1)\n",
    "\n",
    "hypo[['hypothesis','ICE']].sort_values(by='ICE',ascending=False)"
   ]
  },
  {
   "cell_type": "markdown",
   "metadata": {},
   "source": [
    "Наиболее перспективные гипотезы согласно методу ICE: 8,0,7,6."
   ]
  },
  {
   "cell_type": "markdown",
   "metadata": {},
   "source": [
    "#### Приоритезация через фреймворк RICE"
   ]
  },
  {
   "cell_type": "markdown",
   "metadata": {},
   "source": [
    "Воспользуемся формулой для расчета RICE:"
   ]
  },
  {
   "cell_type": "markdown",
   "metadata": {},
   "source": [
    "</ul></div> <br>\n",
    "\n",
    "$$RICE = \\frac{Reach * Impact * Confidence}{Efforts}$$"
   ]
  },
  {
   "cell_type": "markdown",
   "metadata": {},
   "source": [
    "где Reach - степень охвата пользователей."
   ]
  },
  {
   "cell_type": "code",
   "execution_count": 5,
   "metadata": {},
   "outputs": [
    {
     "data": {
      "text/html": [
       "<div>\n",
       "<style scoped>\n",
       "    .dataframe tbody tr th:only-of-type {\n",
       "        vertical-align: middle;\n",
       "    }\n",
       "\n",
       "    .dataframe tbody tr th {\n",
       "        vertical-align: top;\n",
       "    }\n",
       "\n",
       "    .dataframe thead th {\n",
       "        text-align: right;\n",
       "    }\n",
       "</style>\n",
       "<table border=\"1\" class=\"dataframe\">\n",
       "  <thead>\n",
       "    <tr style=\"text-align: right;\">\n",
       "      <th></th>\n",
       "      <th>hypothesis</th>\n",
       "      <th>RICE</th>\n",
       "    </tr>\n",
       "  </thead>\n",
       "  <tbody>\n",
       "    <tr>\n",
       "      <th>7</th>\n",
       "      <td>Добавить форму подписки на все основные страницы, чтобы собрать базу клиентов для email-рассылок</td>\n",
       "      <td>112.0</td>\n",
       "    </tr>\n",
       "    <tr>\n",
       "      <th>2</th>\n",
       "      <td>Добавить блоки рекомендаций товаров на сайт интернет магазина, чтобы повысить конверсию и средний чек заказа</td>\n",
       "      <td>56.0</td>\n",
       "    </tr>\n",
       "    <tr>\n",
       "      <th>0</th>\n",
       "      <td>Добавить два новых канала привлечения трафика, что позволит привлекать на 30% больше пользователей</td>\n",
       "      <td>40.0</td>\n",
       "    </tr>\n",
       "    <tr>\n",
       "      <th>6</th>\n",
       "      <td>Показать на главной странице баннеры с актуальными акциями и распродажами, чтобы увеличить конверсию</td>\n",
       "      <td>40.0</td>\n",
       "    </tr>\n",
       "    <tr>\n",
       "      <th>8</th>\n",
       "      <td>Запустить акцию, дающую скидку на товар в день рождения</td>\n",
       "      <td>16.2</td>\n",
       "    </tr>\n",
       "    <tr>\n",
       "      <th>3</th>\n",
       "      <td>Изменить структура категорий, что увеличит конверсию, т.к. пользователи быстрее найдут нужный товар</td>\n",
       "      <td>9.0</td>\n",
       "    </tr>\n",
       "    <tr>\n",
       "      <th>1</th>\n",
       "      <td>Запустить собственную службу доставки, что сократит срок доставки заказов</td>\n",
       "      <td>4.0</td>\n",
       "    </tr>\n",
       "    <tr>\n",
       "      <th>5</th>\n",
       "      <td>Добавить страницу отзывов клиентов о магазине, что позволит увеличить количество заказов</td>\n",
       "      <td>4.0</td>\n",
       "    </tr>\n",
       "    <tr>\n",
       "      <th>4</th>\n",
       "      <td>Изменить цвет фона главной страницы, чтобы увеличить вовлеченность пользователей</td>\n",
       "      <td>3.0</td>\n",
       "    </tr>\n",
       "  </tbody>\n",
       "</table>\n",
       "</div>"
      ],
      "text/plain": [
       "                                                                                                     hypothesis  \\\n",
       "7              Добавить форму подписки на все основные страницы, чтобы собрать базу клиентов для email-рассылок   \n",
       "2  Добавить блоки рекомендаций товаров на сайт интернет магазина, чтобы повысить конверсию и средний чек заказа   \n",
       "0            Добавить два новых канала привлечения трафика, что позволит привлекать на 30% больше пользователей   \n",
       "6          Показать на главной странице баннеры с актуальными акциями и распродажами, чтобы увеличить конверсию   \n",
       "8                                                       Запустить акцию, дающую скидку на товар в день рождения   \n",
       "3           Изменить структура категорий, что увеличит конверсию, т.к. пользователи быстрее найдут нужный товар   \n",
       "1                                     Запустить собственную службу доставки, что сократит срок доставки заказов   \n",
       "5                      Добавить страницу отзывов клиентов о магазине, что позволит увеличить количество заказов   \n",
       "4                              Изменить цвет фона главной страницы, чтобы увеличить вовлеченность пользователей   \n",
       "\n",
       "    RICE  \n",
       "7  112.0  \n",
       "2   56.0  \n",
       "0   40.0  \n",
       "6   40.0  \n",
       "8   16.2  \n",
       "3    9.0  \n",
       "1    4.0  \n",
       "5    4.0  \n",
       "4    3.0  "
      ]
     },
     "execution_count": 5,
     "metadata": {},
     "output_type": "execute_result"
    }
   ],
   "source": [
    "hypo['RICE'] = (hypo['reach']*hypo['impact']*hypo['confidence'])/hypo['efforts']\n",
    "\n",
    "hypo[['hypothesis','RICE']].sort_values(by='RICE',ascending=False)"
   ]
  },
  {
   "cell_type": "code",
   "execution_count": 6,
   "metadata": {},
   "outputs": [],
   "source": [
    "pd.reset_option(\"max_colwidth\")"
   ]
  },
  {
   "cell_type": "code",
   "execution_count": 7,
   "metadata": {},
   "outputs": [
    {
     "data": {
      "text/html": [
       "<div>\n",
       "<style scoped>\n",
       "    .dataframe tbody tr th:only-of-type {\n",
       "        vertical-align: middle;\n",
       "    }\n",
       "\n",
       "    .dataframe tbody tr th {\n",
       "        vertical-align: top;\n",
       "    }\n",
       "\n",
       "    .dataframe thead th {\n",
       "        text-align: right;\n",
       "    }\n",
       "</style>\n",
       "<table border=\"1\" class=\"dataframe\">\n",
       "  <thead>\n",
       "    <tr style=\"text-align: right;\">\n",
       "      <th></th>\n",
       "      <th>hypothesis</th>\n",
       "      <th>reach</th>\n",
       "      <th>impact</th>\n",
       "      <th>confidence</th>\n",
       "      <th>efforts</th>\n",
       "      <th>ICE</th>\n",
       "      <th>RICE</th>\n",
       "    </tr>\n",
       "  </thead>\n",
       "  <tbody>\n",
       "    <tr>\n",
       "      <th>0</th>\n",
       "      <td>Добавить два новых канала привлечения трафика,...</td>\n",
       "      <td>3</td>\n",
       "      <td>10</td>\n",
       "      <td>8</td>\n",
       "      <td>6</td>\n",
       "      <td>13.3</td>\n",
       "      <td>40.0</td>\n",
       "    </tr>\n",
       "    <tr>\n",
       "      <th>1</th>\n",
       "      <td>Запустить собственную службу доставки, что сок...</td>\n",
       "      <td>2</td>\n",
       "      <td>5</td>\n",
       "      <td>4</td>\n",
       "      <td>10</td>\n",
       "      <td>2.0</td>\n",
       "      <td>4.0</td>\n",
       "    </tr>\n",
       "    <tr>\n",
       "      <th>2</th>\n",
       "      <td>Добавить блоки рекомендаций товаров на сайт ин...</td>\n",
       "      <td>8</td>\n",
       "      <td>3</td>\n",
       "      <td>7</td>\n",
       "      <td>3</td>\n",
       "      <td>7.0</td>\n",
       "      <td>56.0</td>\n",
       "    </tr>\n",
       "    <tr>\n",
       "      <th>3</th>\n",
       "      <td>Изменить структура категорий, что увеличит кон...</td>\n",
       "      <td>8</td>\n",
       "      <td>3</td>\n",
       "      <td>3</td>\n",
       "      <td>8</td>\n",
       "      <td>1.1</td>\n",
       "      <td>9.0</td>\n",
       "    </tr>\n",
       "    <tr>\n",
       "      <th>4</th>\n",
       "      <td>Изменить цвет фона главной страницы, чтобы уве...</td>\n",
       "      <td>3</td>\n",
       "      <td>1</td>\n",
       "      <td>1</td>\n",
       "      <td>1</td>\n",
       "      <td>1.0</td>\n",
       "      <td>3.0</td>\n",
       "    </tr>\n",
       "    <tr>\n",
       "      <th>5</th>\n",
       "      <td>Добавить страницу отзывов клиентов о магазине,...</td>\n",
       "      <td>3</td>\n",
       "      <td>2</td>\n",
       "      <td>2</td>\n",
       "      <td>3</td>\n",
       "      <td>1.3</td>\n",
       "      <td>4.0</td>\n",
       "    </tr>\n",
       "    <tr>\n",
       "      <th>6</th>\n",
       "      <td>Показать на главной странице баннеры с актуаль...</td>\n",
       "      <td>5</td>\n",
       "      <td>3</td>\n",
       "      <td>8</td>\n",
       "      <td>3</td>\n",
       "      <td>8.0</td>\n",
       "      <td>40.0</td>\n",
       "    </tr>\n",
       "    <tr>\n",
       "      <th>7</th>\n",
       "      <td>Добавить форму подписки на все основные страни...</td>\n",
       "      <td>10</td>\n",
       "      <td>7</td>\n",
       "      <td>8</td>\n",
       "      <td>5</td>\n",
       "      <td>11.2</td>\n",
       "      <td>112.0</td>\n",
       "    </tr>\n",
       "    <tr>\n",
       "      <th>8</th>\n",
       "      <td>Запустить акцию, дающую скидку на товар в день...</td>\n",
       "      <td>1</td>\n",
       "      <td>9</td>\n",
       "      <td>9</td>\n",
       "      <td>5</td>\n",
       "      <td>16.2</td>\n",
       "      <td>16.2</td>\n",
       "    </tr>\n",
       "  </tbody>\n",
       "</table>\n",
       "</div>"
      ],
      "text/plain": [
       "                                          hypothesis  reach  impact  \\\n",
       "0  Добавить два новых канала привлечения трафика,...      3      10   \n",
       "1  Запустить собственную службу доставки, что сок...      2       5   \n",
       "2  Добавить блоки рекомендаций товаров на сайт ин...      8       3   \n",
       "3  Изменить структура категорий, что увеличит кон...      8       3   \n",
       "4  Изменить цвет фона главной страницы, чтобы уве...      3       1   \n",
       "5  Добавить страницу отзывов клиентов о магазине,...      3       2   \n",
       "6  Показать на главной странице баннеры с актуаль...      5       3   \n",
       "7  Добавить форму подписки на все основные страни...     10       7   \n",
       "8  Запустить акцию, дающую скидку на товар в день...      1       9   \n",
       "\n",
       "   confidence  efforts   ICE   RICE  \n",
       "0           8        6  13.3   40.0  \n",
       "1           4       10   2.0    4.0  \n",
       "2           7        3   7.0   56.0  \n",
       "3           3        8   1.1    9.0  \n",
       "4           1        1   1.0    3.0  \n",
       "5           2        3   1.3    4.0  \n",
       "6           8        3   8.0   40.0  \n",
       "7           8        5  11.2  112.0  \n",
       "8           9        5  16.2   16.2  "
      ]
     },
     "execution_count": 7,
     "metadata": {},
     "output_type": "execute_result"
    }
   ],
   "source": [
    "hypo"
   ]
  },
  {
   "cell_type": "markdown",
   "metadata": {},
   "source": [
    "Наиболее перспективные гипотезы согласно методу RICE: 7,2,0,6."
   ]
  },
  {
   "cell_type": "markdown",
   "metadata": {},
   "source": [
    "С учетом охвата можно заметить любопытные особенности:\n",
    "- гипотеза 8 (скидка в день рождения), занимавшая первое место в ICE, \"падает\" до пятого места. Это единственная гипотеза, у которой количество очков остается неизменным вне зависимости от метода. Очевидно, это связано с тем, что скидкой в день рождения воспользуется почти каждый активный пользователь, однако в разрезе общего количества активных пользователей в некоторый промежуток времени доля таких покупателей будет очень мала;\n",
    "- гипотеза 2 (блоки рекомендаций товаров на сайте), наоборот, поднялась с пятого на второе место."
   ]
  },
  {
   "cell_type": "markdown",
   "metadata": {},
   "source": [
    "### Анализ A/B-теста"
   ]
  },
  {
   "cell_type": "code",
   "execution_count": 8,
   "metadata": {},
   "outputs": [],
   "source": [
    "import datetime as dt\n",
    "import numpy as np\n",
    "import matplotlib.pyplot as plt\n",
    "import scipy.stats as stats\n",
    "from pandas.plotting import register_matplotlib_converters\n",
    "import warnings"
   ]
  },
  {
   "cell_type": "code",
   "execution_count": 9,
   "metadata": {},
   "outputs": [
    {
     "name": "stdout",
     "output_type": "stream",
     "text": [
      "      transactionId   visitorId       date  revenue group\n",
      "0        3667963787  3312258926 2019-08-15     1650     B\n",
      "1        2804400009  3642806036 2019-08-15      730     B\n",
      "2        2961555356  4069496402 2019-08-15      400     A\n",
      "3        3797467345  1196621759 2019-08-15     9759     B\n",
      "4        2282983706  2322279887 2019-08-15     2308     B\n",
      "...             ...         ...        ...      ...   ...\n",
      "1192     2662137336  3733762160 2019-08-14     6490     B\n",
      "1193     2203539145   370388673 2019-08-14     3190     A\n",
      "1194     1807773912   573423106 2019-08-14    10550     A\n",
      "1195     1947021204  1614305549 2019-08-14      100     A\n",
      "1196     3936777065  2108080724 2019-08-15   202740     B\n",
      "\n",
      "[1197 rows x 5 columns]\n"
     ]
    }
   ],
   "source": [
    "try:\n",
    "    orders = pd.read_csv('C:/Users/FORTREZZA/Desktop/Курс Дата-аналитика (Яндекс)/9. Принятие решений в бизнесе (A-B тест)/orders.csv')\n",
    "    orders['date'] = orders['date'].map(\n",
    "        lambda x: dt.datetime.strptime(x, '%Y-%m-%d')\n",
    "    )\n",
    "    print(orders)\n",
    "except:\n",
    "    'File Not Found'"
   ]
  },
  {
   "cell_type": "code",
   "execution_count": 10,
   "metadata": {},
   "outputs": [
    {
     "name": "stdout",
     "output_type": "stream",
     "text": [
      "         date group  visitors\n",
      "0  2019-08-01     A       719\n",
      "1  2019-08-02     A       619\n",
      "2  2019-08-03     A       507\n",
      "3  2019-08-04     A       717\n",
      "4  2019-08-05     A       756\n",
      "..        ...   ...       ...\n",
      "57 2019-08-27     B       720\n",
      "58 2019-08-28     B       654\n",
      "59 2019-08-29     B       531\n",
      "60 2019-08-30     B       490\n",
      "61 2019-08-31     B       718\n",
      "\n",
      "[62 rows x 3 columns]\n"
     ]
    }
   ],
   "source": [
    "try:\n",
    "    visitors = pd.read_csv('C:/Users/FORTREZZA/Desktop/Курс Дата-аналитика (Яндекс)/9. Принятие решений в бизнесе (A-B тест)/visitors.csv')\n",
    "    visitors['date'] = visitors['date'].map(\n",
    "        lambda x: dt.datetime.strptime(x, '%Y-%m-%d')\n",
    "    )\n",
    "    print(visitors)\n",
    "except:\n",
    "    'File Not Found'"
   ]
  },
  {
   "cell_type": "markdown",
   "metadata": {},
   "source": [
    "#### Предварительная проверка данных"
   ]
  },
  {
   "cell_type": "markdown",
   "metadata": {},
   "source": [
    "##### Количество групп в A/B-тесте"
   ]
  },
  {
   "cell_type": "code",
   "execution_count": 11,
   "metadata": {},
   "outputs": [
    {
     "data": {
      "text/plain": [
       "2"
      ]
     },
     "execution_count": 11,
     "metadata": {},
     "output_type": "execute_result"
    }
   ],
   "source": [
    "orders['group'].nunique()"
   ]
  },
  {
   "cell_type": "code",
   "execution_count": 12,
   "metadata": {},
   "outputs": [
    {
     "data": {
      "text/plain": [
       "2"
      ]
     },
     "execution_count": 12,
     "metadata": {},
     "output_type": "execute_result"
    }
   ],
   "source": [
    "visitors['group'].nunique()"
   ]
  },
  {
   "cell_type": "markdown",
   "metadata": {},
   "source": [
    "Две группы в датафреймах - все корректно."
   ]
  },
  {
   "cell_type": "markdown",
   "metadata": {},
   "source": [
    "##### Количество пользователей в каждой группе"
   ]
  },
  {
   "cell_type": "code",
   "execution_count": 13,
   "metadata": {},
   "outputs": [
    {
     "data": {
      "text/plain": [
       "503"
      ]
     },
     "execution_count": 13,
     "metadata": {},
     "output_type": "execute_result"
    }
   ],
   "source": [
    "orders.loc[orders['group']=='A','visitorId'].nunique()"
   ]
  },
  {
   "cell_type": "code",
   "execution_count": 14,
   "metadata": {},
   "outputs": [
    {
     "data": {
      "text/plain": [
       "586"
      ]
     },
     "execution_count": 14,
     "metadata": {},
     "output_type": "execute_result"
    }
   ],
   "source": [
    "orders.loc[orders['group']=='B','visitorId'].nunique()"
   ]
  },
  {
   "cell_type": "markdown",
   "metadata": {},
   "source": [
    "В группе A количество пользователей составляет 503, в группе B - 586. Будем исходить из того, что такое различие несущественно."
   ]
  },
  {
   "cell_type": "markdown",
   "metadata": {},
   "source": [
    "##### Временные границы исследования"
   ]
  },
  {
   "cell_type": "code",
   "execution_count": 15,
   "metadata": {},
   "outputs": [
    {
     "data": {
      "text/plain": [
       "Timestamp('2019-08-01 00:00:00')"
      ]
     },
     "execution_count": 15,
     "metadata": {},
     "output_type": "execute_result"
    }
   ],
   "source": [
    "orders['date'].min()"
   ]
  },
  {
   "cell_type": "code",
   "execution_count": 16,
   "metadata": {},
   "outputs": [
    {
     "data": {
      "text/plain": [
       "Timestamp('2019-08-31 00:00:00')"
      ]
     },
     "execution_count": 16,
     "metadata": {},
     "output_type": "execute_result"
    }
   ],
   "source": [
    "orders['date'].max()"
   ]
  },
  {
   "cell_type": "code",
   "execution_count": 17,
   "metadata": {},
   "outputs": [
    {
     "data": {
      "text/plain": [
       "Timestamp('2019-08-01 00:00:00')"
      ]
     },
     "execution_count": 17,
     "metadata": {},
     "output_type": "execute_result"
    }
   ],
   "source": [
    "visitors['date'].min()"
   ]
  },
  {
   "cell_type": "code",
   "execution_count": 18,
   "metadata": {},
   "outputs": [
    {
     "data": {
      "text/plain": [
       "Timestamp('2019-08-31 00:00:00')"
      ]
     },
     "execution_count": 18,
     "metadata": {},
     "output_type": "execute_result"
    }
   ],
   "source": [
    "visitors['date'].max()"
   ]
  },
  {
   "cell_type": "markdown",
   "metadata": {},
   "source": [
    "Исследование проводилось в течение августа 2019 года. Даты в двух датафреймах совпадают."
   ]
  },
  {
   "cell_type": "markdown",
   "metadata": {},
   "source": [
    "##### Проверка на пересечение пользователей между группами"
   ]
  },
  {
   "cell_type": "code",
   "execution_count": 76,
   "metadata": {},
   "outputs": [],
   "source": [
    "set1 = set(orders.query('group == \"A\"')['visitorId'])"
   ]
  },
  {
   "cell_type": "code",
   "execution_count": 20,
   "metadata": {},
   "outputs": [],
   "source": [
    "set2 = set(orders.query('group == \"B\"')['visitorId'])"
   ]
  },
  {
   "cell_type": "code",
   "execution_count": 21,
   "metadata": {},
   "outputs": [
    {
     "name": "stdout",
     "output_type": "stream",
     "text": [
      "В данных присутствуюи всего 58 пользователей, присутствующих в обеих группах\n"
     ]
    }
   ],
   "source": [
    "inters_users = set1.intersection(set2)\n",
    "print(f'В данных присутствуюи всего {len(inters_users)} пользователей, присутствующих в обеих группах')"
   ]
  },
  {
   "cell_type": "markdown",
   "metadata": {},
   "source": [
    "##### Проверка на наличие пропусков в данных"
   ]
  },
  {
   "cell_type": "code",
   "execution_count": 22,
   "metadata": {},
   "outputs": [
    {
     "data": {
      "text/plain": [
       "transactionId    0\n",
       "visitorId        0\n",
       "date             0\n",
       "revenue          0\n",
       "group            0\n",
       "dtype: int64"
      ]
     },
     "execution_count": 22,
     "metadata": {},
     "output_type": "execute_result"
    }
   ],
   "source": [
    "orders.isna().sum()"
   ]
  },
  {
   "cell_type": "code",
   "execution_count": 23,
   "metadata": {},
   "outputs": [
    {
     "data": {
      "text/plain": [
       "date        0\n",
       "group       0\n",
       "visitors    0\n",
       "dtype: int64"
      ]
     },
     "execution_count": 23,
     "metadata": {},
     "output_type": "execute_result"
    }
   ],
   "source": [
    "visitors.isna().sum()"
   ]
  },
  {
   "cell_type": "markdown",
   "metadata": {},
   "source": [
    "Пропусков не обнаружено."
   ]
  },
  {
   "cell_type": "markdown",
   "metadata": {},
   "source": [
    "##### Проверка на наличие дубликатов в данных"
   ]
  },
  {
   "cell_type": "code",
   "execution_count": 24,
   "metadata": {},
   "outputs": [
    {
     "data": {
      "text/plain": [
       "0"
      ]
     },
     "execution_count": 24,
     "metadata": {},
     "output_type": "execute_result"
    }
   ],
   "source": [
    "orders.duplicated().sum()"
   ]
  },
  {
   "cell_type": "code",
   "execution_count": 25,
   "metadata": {},
   "outputs": [
    {
     "data": {
      "text/plain": [
       "0"
      ]
     },
     "execution_count": 25,
     "metadata": {},
     "output_type": "execute_result"
    }
   ],
   "source": [
    "visitors.duplicated().sum()"
   ]
  },
  {
   "cell_type": "markdown",
   "metadata": {},
   "source": [
    "Дубликаты в данных не обнаружены."
   ]
  },
  {
   "cell_type": "markdown",
   "metadata": {},
   "source": [
    "#### Кумулятивная выручка по группам"
   ]
  },
  {
   "cell_type": "code",
   "execution_count": 26,
   "metadata": {},
   "outputs": [],
   "source": [
    "datesGroups = orders[['date', 'group']].drop_duplicates() #создаем массив уникальных значений дат и групп теста"
   ]
  },
  {
   "cell_type": "markdown",
   "metadata": {},
   "source": [
    "Собираем агрегированные кумулятивные данные по дням для заказов и для посетителей сайта."
   ]
  },
  {
   "cell_type": "code",
   "execution_count": 27,
   "metadata": {},
   "outputs": [],
   "source": [
    "ordersAggregated = datesGroups.apply(\n",
    "    lambda x: orders[\n",
    "        np.logical_and(\n",
    "            orders['date'] <= x['date'], orders['group'] == x['group']\n",
    "        )\n",
    "    ].agg(\n",
    "        {\n",
    "            'date': 'max',\n",
    "            'group': 'max',\n",
    "            'transactionId': 'nunique',\n",
    "            'visitorId': 'nunique',\n",
    "            'revenue': 'sum',\n",
    "        }\n",
    "    ),\n",
    "    axis=1,\n",
    ").sort_values(by=['date', 'group'])"
   ]
  },
  {
   "cell_type": "code",
   "execution_count": 28,
   "metadata": {},
   "outputs": [],
   "source": [
    "visitorsAggregated = datesGroups.apply(\n",
    "    lambda x: visitors[\n",
    "        np.logical_and(\n",
    "            visitors['date'] <= x['date'], visitors['group'] == x['group']\n",
    "        )\n",
    "    ].agg({'date': 'max', 'group': 'max', 'visitors': 'sum'}),\n",
    "    axis=1,\n",
    ").sort_values(by=['date', 'group'])"
   ]
  },
  {
   "cell_type": "markdown",
   "metadata": {},
   "source": [
    "Соединяем таблицы."
   ]
  },
  {
   "cell_type": "code",
   "execution_count": 29,
   "metadata": {},
   "outputs": [],
   "source": [
    "cumulativeData = ordersAggregated.merge(\n",
    "    visitorsAggregated, left_on=['date', 'group'], right_on=['date', 'group']\n",
    ")"
   ]
  },
  {
   "cell_type": "code",
   "execution_count": 30,
   "metadata": {},
   "outputs": [],
   "source": [
    "cumulativeData.columns = [\n",
    "    'date',\n",
    "    'group',\n",
    "    'orders',\n",
    "    'buyers',\n",
    "    'revenue',\n",
    "    'visitors',\n",
    "]"
   ]
  },
  {
   "cell_type": "markdown",
   "metadata": {},
   "source": [
    "Дифференцируем данные в таблице по группам и построим график с двумя кривыми."
   ]
  },
  {
   "cell_type": "code",
   "execution_count": 31,
   "metadata": {},
   "outputs": [],
   "source": [
    "cumulativeRevenueA = cumulativeData[cumulativeData['group']=='A'][['date','revenue', 'orders']]\n",
    "cumulativeRevenueB = cumulativeData[cumulativeData['group']=='B'][['date','revenue', 'orders']]"
   ]
  },
  {
   "cell_type": "code",
   "execution_count": 32,
   "metadata": {},
   "outputs": [
    {
     "data": {
      "image/png": "[encoded data removed]",
      "text/plain": [
       "<Figure size 1200x900 with 1 Axes>"
      ]
     },
     "metadata": {},
     "output_type": "display_data"
    }
   ],
   "source": [
    "plt.figure(figsize=(12,9))\n",
    "plt.plot(cumulativeRevenueA['date'], cumulativeRevenueA['revenue'], label='A')\n",
    "plt.plot(cumulativeRevenueB['date'], cumulativeRevenueB['revenue'], label='B')\n",
    "\n",
    "plt.xlabel('Дата')\n",
    "plt.ylabel('Кумулятивная выручка')\n",
    "plt.title('График роста кумулятивной выручки')\n",
    "\n",
    "plt.legend()\n",
    "plt.show()"
   ]
  },
  {
   "cell_type": "markdown",
   "metadata": {},
   "source": [
    "По графику кумулятивной выручки видно, что:\n",
    "- до 18.08.2019 тестируемая группа незначительно выше, чем контрольная;\n",
    "- затем в указанную дату наблюдается резкий скачок по выручке у тестируемой группы, после которого кривая снова очень схожа с кривой контрольной группы.\n",
    "\n",
    "С высокой долей вероятности можно предполагать, что скачок связан с аномальным(-ыми) заказом(-ами) в указанную дату."
   ]
  },
  {
   "cell_type": "markdown",
   "metadata": {},
   "source": [
    "#### Кумулятивный средний чек по группам"
   ]
  },
  {
   "cell_type": "code",
   "execution_count": 33,
   "metadata": {},
   "outputs": [
    {
     "data": {
      "image/png": "[encoded data removed]",
      "text/plain": [
       "<Figure size 1200x900 with 1 Axes>"
      ]
     },
     "metadata": {},
     "output_type": "display_data"
    }
   ],
   "source": [
    "plt.figure(figsize=(12,9))\n",
    "plt.plot(cumulativeRevenueA['date'], cumulativeRevenueA['revenue']/cumulativeRevenueA['orders'], label='A')\n",
    "plt.plot(cumulativeRevenueB['date'], cumulativeRevenueB['revenue']/cumulativeRevenueB['orders'], label='B')\n",
    "\n",
    "plt.xlabel('Дата')\n",
    "plt.ylabel('Кумулятивный средний чек')\n",
    "plt.title('График роста кумулятивного среднего чека по группам')\n",
    "\n",
    "plt.legend()\n",
    "plt.show()"
   ]
  },
  {
   "cell_type": "markdown",
   "metadata": {},
   "source": [
    "По графику можно наблюдать, что в первые две недели после запуска теста средний чек контрольной группы резко проседает, в то время как тестируемая группа ожидаем растет. К концу этого периода кривые начинают сходиться. 18.08.2019 средний чек тестируемой группы резко \"взлетает\" вверх, после чего опять можно наблюдать тенденцию с сходимости кривых.\n",
    "Полученный график также не позволяет сделать каких-либо выводов по влиянию гипотез, кроме того, что явно присутствует аномальный(-ые) заказ(-ы)."
   ]
  },
  {
   "cell_type": "markdown",
   "metadata": {},
   "source": [
    "#### Относительное изменение кумулятивного среднего чека группы B к группе A"
   ]
  },
  {
   "cell_type": "code",
   "execution_count": 34,
   "metadata": {},
   "outputs": [],
   "source": [
    "mergedCumulativeRevenue = cumulativeRevenueA.merge(\n",
    "    cumulativeRevenueB, left_on='date', right_on='date', how='left', suffixes=['A', 'B'])"
   ]
  },
  {
   "cell_type": "code",
   "execution_count": 35,
   "metadata": {},
   "outputs": [
    {
     "data": {
      "image/png": "[encoded data removed]",
      "text/plain": [
       "<Figure size 1200x900 with 1 Axes>"
      ]
     },
     "metadata": {},
     "output_type": "display_data"
    }
   ],
   "source": [
    "plt.figure(figsize=(12,9))\n",
    "plt.plot(mergedCumulativeRevenue['date'], (mergedCumulativeRevenue['revenueB']/mergedCumulativeRevenue['ordersB'])/(\n",
    "    mergedCumulativeRevenue['revenueA']/mergedCumulativeRevenue['ordersA'])-1)\n",
    "\n",
    "plt.xlabel('Дата')\n",
    "plt.ylabel('Относительное изменение')\n",
    "plt.title('График относительного изменения кумулятивного среднего чека группы B к группе A')\n",
    "\n",
    "plt.axhline(y=0, color='black', linestyle='--') \n",
    "\n",
    "plt.show()"
   ]
  },
  {
   "cell_type": "markdown",
   "metadata": {},
   "source": [
    "Описанный выше характер изменения кумулятивного среднего чека наглядно виден и на этом графике: бурный рост, стремительное падение, скачок и постепенное падение."
   ]
  },
  {
   "cell_type": "markdown",
   "metadata": {},
   "source": [
    "#### Кумулятивное среднее количество заказов на посетителя"
   ]
  },
  {
   "cell_type": "code",
   "execution_count": 36,
   "metadata": {},
   "outputs": [],
   "source": [
    "cumulativeData['conversion'] = cumulativeData['orders']/cumulativeData['visitors']"
   ]
  },
  {
   "cell_type": "code",
   "execution_count": 37,
   "metadata": {},
   "outputs": [],
   "source": [
    "cumulativeDataA = cumulativeData[cumulativeData['group']=='A']\n",
    "cumulativeDataB = cumulativeData[cumulativeData['group']=='B']"
   ]
  },
  {
   "cell_type": "code",
   "execution_count": 38,
   "metadata": {},
   "outputs": [
    {
     "data": {
      "image/png": "[encoded data removed]",
      "text/plain": [
       "<Figure size 1200x900 with 1 Axes>"
      ]
     },
     "metadata": {},
     "output_type": "display_data"
    }
   ],
   "source": [
    "plt.figure(figsize=(12,9))\n",
    "plt.plot(cumulativeDataA['date'], cumulativeDataA['conversion'], label='A')\n",
    "plt.plot(cumulativeDataB['date'], cumulativeDataB['conversion'], label='B')\n",
    "\n",
    "plt.legend()\n",
    "plt.show()"
   ]
  },
  {
   "cell_type": "markdown",
   "metadata": {},
   "source": [
    "Конверсия растет в тестируемой группе в течение первой недели, затем стабилизируется и визуально становится похоже на контрольную группу. Можно предположить, что исследуемая гипотеза оказывает влияние на поведение пользователей в течение короткого промежутка времени."
   ]
  },
  {
   "cell_type": "markdown",
   "metadata": {},
   "source": [
    "#### Относительное изменение кумулятивного среднего количества заказов на посетителя группы B к группе A"
   ]
  },
  {
   "cell_type": "code",
   "execution_count": 39,
   "metadata": {},
   "outputs": [],
   "source": [
    "mergedCumulativeConversions = cumulativeDataA[['date','conversion']].merge(\n",
    "    cumulativeDataB[['date','conversion']], left_on='date', right_on='date', how='left', suffixes=['A', 'B'])"
   ]
  },
  {
   "cell_type": "code",
   "execution_count": 40,
   "metadata": {},
   "outputs": [
    {
     "data": {
      "image/png": "[encoded data removed]",
      "text/plain": [
       "<Figure size 1200x900 with 1 Axes>"
      ]
     },
     "metadata": {},
     "output_type": "display_data"
    }
   ],
   "source": [
    "plt.figure(figsize=(12,9))\n",
    "plt.plot(mergedCumulativeConversions['date'], mergedCumulativeConversions['conversionB']/mergedCumulativeConversions['conversionA']-1)\n",
    "\n",
    "plt.xlabel('Дата')\n",
    "plt.ylabel('Относительное изменение')\n",
    "plt.title('График относительного прироста конверсии группы B относительно группы A')\n",
    "\n",
    "plt.axhline(y=0, color='black', linestyle='--')\n",
    "plt.axhline(y=0.2, color='grey', linestyle='--')\n",
    "\n",
    "plt.show()"
   ]
  },
  {
   "cell_type": "markdown",
   "metadata": {},
   "source": [
    "График подтверждает наблюдение, описанное выше, и дополняет его заметной тенденцией к уменьшению конверсии. Хотя последнее утверждать однозначно нельзя - для этого нужно выполнить более длительный тест."
   ]
  },
  {
   "cell_type": "markdown",
   "metadata": {},
   "source": [
    "#### Точечный график количества заказов по пользователям"
   ]
  },
  {
   "cell_type": "code",
   "execution_count": 41,
   "metadata": {},
   "outputs": [],
   "source": [
    "ordersByUsers = (\n",
    "    orders.groupby('visitorId', as_index=False)\n",
    "    .agg({'transactionId': 'nunique'})\n",
    ")\n",
    "ordersByUsers.columns = ['userId', 'orders']"
   ]
  },
  {
   "cell_type": "code",
   "execution_count": 42,
   "metadata": {},
   "outputs": [
    {
     "data": {
      "text/html": [
       "<div>\n",
       "<style scoped>\n",
       "    .dataframe tbody tr th:only-of-type {\n",
       "        vertical-align: middle;\n",
       "    }\n",
       "\n",
       "    .dataframe tbody tr th {\n",
       "        vertical-align: top;\n",
       "    }\n",
       "\n",
       "    .dataframe thead th {\n",
       "        text-align: right;\n",
       "    }\n",
       "</style>\n",
       "<table border=\"1\" class=\"dataframe\">\n",
       "  <thead>\n",
       "    <tr style=\"text-align: right;\">\n",
       "      <th></th>\n",
       "      <th>userId</th>\n",
       "      <th>orders</th>\n",
       "    </tr>\n",
       "  </thead>\n",
       "  <tbody>\n",
       "    <tr>\n",
       "      <th>1023</th>\n",
       "      <td>4256040402</td>\n",
       "      <td>11</td>\n",
       "    </tr>\n",
       "    <tr>\n",
       "      <th>591</th>\n",
       "      <td>2458001652</td>\n",
       "      <td>11</td>\n",
       "    </tr>\n",
       "    <tr>\n",
       "      <th>569</th>\n",
       "      <td>2378935119</td>\n",
       "      <td>9</td>\n",
       "    </tr>\n",
       "    <tr>\n",
       "      <th>487</th>\n",
       "      <td>2038680547</td>\n",
       "      <td>8</td>\n",
       "    </tr>\n",
       "    <tr>\n",
       "      <th>44</th>\n",
       "      <td>199603092</td>\n",
       "      <td>5</td>\n",
       "    </tr>\n",
       "    <tr>\n",
       "      <th>744</th>\n",
       "      <td>3062433592</td>\n",
       "      <td>5</td>\n",
       "    </tr>\n",
       "    <tr>\n",
       "      <th>55</th>\n",
       "      <td>237748145</td>\n",
       "      <td>5</td>\n",
       "    </tr>\n",
       "    <tr>\n",
       "      <th>917</th>\n",
       "      <td>3803269165</td>\n",
       "      <td>5</td>\n",
       "    </tr>\n",
       "    <tr>\n",
       "      <th>299</th>\n",
       "      <td>1230306981</td>\n",
       "      <td>5</td>\n",
       "    </tr>\n",
       "    <tr>\n",
       "      <th>897</th>\n",
       "      <td>3717692402</td>\n",
       "      <td>5</td>\n",
       "    </tr>\n",
       "  </tbody>\n",
       "</table>\n",
       "</div>"
      ],
      "text/plain": [
       "          userId  orders\n",
       "1023  4256040402      11\n",
       "591   2458001652      11\n",
       "569   2378935119       9\n",
       "487   2038680547       8\n",
       "44     199603092       5\n",
       "744   3062433592       5\n",
       "55     237748145       5\n",
       "917   3803269165       5\n",
       "299   1230306981       5\n",
       "897   3717692402       5"
      ]
     },
     "execution_count": 42,
     "metadata": {},
     "output_type": "execute_result"
    }
   ],
   "source": [
    "ordersByUsers.sort_values(by='orders', ascending=False).head(10)"
   ]
  },
  {
   "cell_type": "code",
   "execution_count": 43,
   "metadata": {},
   "outputs": [
    {
     "data": {
      "image/png": "[encoded data removed]",
      "text/plain": [
       "<Figure size 640x480 with 1 Axes>"
      ]
     },
     "metadata": {},
     "output_type": "display_data"
    }
   ],
   "source": [
    "x_values = pd.Series(range(0, len(ordersByUsers)))\n",
    "\n",
    "plt.scatter(x_values, ordersByUsers['orders'])\n",
    "\n",
    "plt.ylabel('Количество заказов')\n",
    "plt.title('График количества заказов по пользователям')\n",
    "\n",
    "plt.show()"
   ]
  },
  {
   "cell_type": "markdown",
   "metadata": {},
   "source": [
    "Большинство пользователей совершает 1 заказ, гораздо реже - 2 и 3 заказа. Есть также четыре уникальных пользователя, совершивших 8, 9 и 11 заказов. Можно предположить, что все случаи свыше трех заказов - аномальные. Для точного определения границы необходимо рассчитать 95-й и 99-й перцентили."
   ]
  },
  {
   "cell_type": "markdown",
   "metadata": {},
   "source": [
    "#### 95-й и 99-й перцентили количества заказов на пользователя"
   ]
  },
  {
   "cell_type": "code",
   "execution_count": 44,
   "metadata": {},
   "outputs": [
    {
     "data": {
      "text/plain": [
       "array([2., 4.])"
      ]
     },
     "execution_count": 44,
     "metadata": {},
     "output_type": "execute_result"
    }
   ],
   "source": [
    "np.percentile(ordersByUsers['orders'], [95,99])"
   ]
  },
  {
   "cell_type": "markdown",
   "metadata": {},
   "source": [
    "Почти верно предположили. Не более 5% пользователей совершали более 1 заказа и не более 1% пользоваталей совершали более 4 заказов. Эту границу и выберем в качестве критерия аномальности."
   ]
  },
  {
   "cell_type": "markdown",
   "metadata": {},
   "source": [
    "#### Точечный график стоимостей заказов"
   ]
  },
  {
   "cell_type": "code",
   "execution_count": 45,
   "metadata": {},
   "outputs": [
    {
     "data": {
      "image/png": "[encoded data removed]",
      "text/plain": [
       "<Figure size 640x480 with 1 Axes>"
      ]
     },
     "metadata": {},
     "output_type": "display_data"
    }
   ],
   "source": [
    "x_values = pd.Series(range(0, len(orders['revenue'])))\n",
    "\n",
    "plt.scatter(x_values, orders['revenue'])\n",
    "\n",
    "plt.ylabel('Стоимость заказа')\n",
    "plt.title('График стоимостей заказов по пользователям')\n",
    "\n",
    "plt.show()"
   ]
  },
  {
   "cell_type": "markdown",
   "metadata": {},
   "source": [
    "Стоимость большинства заказов не превышает 0,1. Однако есть совершенно уникальный заказ на 1,2. Можно предположить, что это тот самый, благодаря которому кривые выручки и среднего чека тестуруемой группы получили такой скачок."
   ]
  },
  {
   "cell_type": "markdown",
   "metadata": {},
   "source": [
    "#### 95-й и 99-й перцентили стоимости заказов"
   ]
  },
  {
   "cell_type": "code",
   "execution_count": 46,
   "metadata": {},
   "outputs": [
    {
     "data": {
      "text/plain": [
       "array([28000. , 58233.2])"
      ]
     },
     "execution_count": 46,
     "metadata": {},
     "output_type": "execute_result"
    }
   ],
   "source": [
    "np.percentile(orders['revenue'],[95,99])"
   ]
  },
  {
   "cell_type": "markdown",
   "metadata": {},
   "source": [
    "Не более 5% заказов стоят выше 28000 и не более 1% - выше 58233. Также выбираем границу в 1%."
   ]
  },
  {
   "cell_type": "markdown",
   "metadata": {},
   "source": [
    "#### Расчет статистической значимости различий в среднем количестве заказов на посетителя между группами по «сырым» данным"
   ]
  },
  {
   "cell_type": "markdown",
   "metadata": {},
   "source": [
    "Нулевая гипотеза: статистической значимости в среднем количестве заказов на посетителя между группами нет.\n",
    "\n",
    "Альтернативная гипотеза: статистическая значимость в среднем количестве заказов на посетителя между группами есть.\n",
    "\n",
    "Подготовим данные."
   ]
  },
  {
   "cell_type": "code",
   "execution_count": 47,
   "metadata": {},
   "outputs": [],
   "source": [
    "visitorsADaily = visitors[visitors['group'] == 'A'][['date', 'visitors']] #отбираем посетителей группы A\n",
    "visitorsADaily.columns = ['date', 'visitorsPerDateA']"
   ]
  },
  {
   "cell_type": "code",
   "execution_count": 48,
   "metadata": {},
   "outputs": [],
   "source": [
    "visitorsACummulative = visitorsADaily.apply(\n",
    "    lambda x: visitorsADaily[visitorsADaily['date'] <= x['date']].agg(\n",
    "        {'date': 'max', 'visitorsPerDateA': 'sum'}\n",
    "    ),\n",
    "    axis=1,\n",
    ") #считаем кумулятивное количество пользователей группы A по датам\n",
    "visitorsACummulative.columns = ['date', 'visitorsCummulativeA'] "
   ]
  },
  {
   "cell_type": "code",
   "execution_count": 49,
   "metadata": {},
   "outputs": [],
   "source": [
    "visitorsBDaily = visitors[visitors['group'] == 'B'][['date', 'visitors']] #то же самое для группы B\n",
    "visitorsBDaily.columns = ['date', 'visitorsPerDateB']"
   ]
  },
  {
   "cell_type": "code",
   "execution_count": 50,
   "metadata": {},
   "outputs": [],
   "source": [
    "visitorsBCummulative = visitorsBDaily.apply(\n",
    "    lambda x: visitorsBDaily[visitorsBDaily['date'] <= x['date']].agg(\n",
    "        {'date': 'max', 'visitorsPerDateB': 'sum'}\n",
    "    ),\n",
    "    axis=1,\n",
    ")\n",
    "visitorsBCummulative.columns = ['date', 'visitorsCummulativeB']"
   ]
  },
  {
   "cell_type": "code",
   "execution_count": 51,
   "metadata": {},
   "outputs": [],
   "source": [
    "ordersADaily = (\n",
    "    orders[orders['group'] == 'A'][['date', 'transactionId', 'visitorId', 'revenue']]\n",
    "    .groupby('date', as_index=False)\n",
    "    .agg({'transactionId': pd.Series.nunique, 'revenue': 'sum'})\n",
    ") #группируем заказы группы A по датам\n",
    "ordersADaily.columns = ['date', 'ordersPerDateA', 'revenuePerDateA']"
   ]
  },
  {
   "cell_type": "code",
   "execution_count": 52,
   "metadata": {},
   "outputs": [],
   "source": [
    "ordersACummulative = ordersADaily.apply(\n",
    "    lambda x: ordersADaily[ordersADaily['date'] <= x['date']].agg(\n",
    "        {'date': 'max', 'ordersPerDateA': 'sum', 'revenuePerDateA': 'sum'}\n",
    "    ),\n",
    "    axis=1,\n",
    ").sort_values(by=['date']) #считаем кумуляитвную выручку для группы A по датам\n",
    "ordersACummulative.columns = [\n",
    "    'date',\n",
    "    'ordersCummulativeA',\n",
    "    'revenueCummulativeA',\n",
    "]"
   ]
  },
  {
   "cell_type": "code",
   "execution_count": 53,
   "metadata": {},
   "outputs": [],
   "source": [
    "ordersBDaily = (\n",
    "    orders[orders['group'] == 'B'][['date', 'transactionId', 'visitorId', 'revenue']]\n",
    "    .groupby('date', as_index=False)\n",
    "    .agg({'transactionId': pd.Series.nunique, 'revenue': 'sum'})\n",
    ") #то же самое для группы B\n",
    "ordersBDaily.columns = ['date', 'ordersPerDateB', 'revenuePerDateB']"
   ]
  },
  {
   "cell_type": "code",
   "execution_count": 54,
   "metadata": {},
   "outputs": [],
   "source": [
    "ordersBCummulative = ordersBDaily.apply(\n",
    "    lambda x: ordersBDaily[ordersBDaily['date'] <= x['date']].agg(\n",
    "        {'date': 'max', 'ordersPerDateB': 'sum', 'revenuePerDateB': 'sum'}\n",
    "    ),\n",
    "    axis=1,\n",
    ").sort_values(by=['date'])\n",
    "ordersBCummulative.columns = [\n",
    "    'date',\n",
    "    'ordersCummulativeB',\n",
    "    'revenueCummulativeB',\n",
    "]"
   ]
  },
  {
   "cell_type": "code",
   "execution_count": 55,
   "metadata": {},
   "outputs": [],
   "source": [
    "data = (\n",
    "    ordersADaily.merge(\n",
    "        ordersBDaily, left_on='date', right_on='date', how='left'\n",
    "    )\n",
    "    .merge(ordersACummulative, left_on='date', right_on='date', how='left')\n",
    "    .merge(ordersBCummulative, left_on='date', right_on='date', how='left')\n",
    "    .merge(visitorsADaily, left_on='date', right_on='date', how='left')\n",
    "    .merge(visitorsBDaily, left_on='date', right_on='date', how='left')\n",
    "    .merge(visitorsACummulative, left_on='date', right_on='date', how='left')\n",
    "    .merge(visitorsBCummulative, left_on='date', right_on='date', how='left')\n",
    ") #объединяем данные"
   ]
  },
  {
   "cell_type": "code",
   "execution_count": 56,
   "metadata": {},
   "outputs": [],
   "source": [
    "ordersByUsersA = (\n",
    "    orders[orders['group'] == 'A']\n",
    "    .groupby('visitorId', as_index=False)\n",
    "    .agg({'transactionId': pd.Series.nunique})\n",
    ") #число заказов для пользователей группы A, совершивших хотя бы один заказ\n",
    "ordersByUsersA.columns = ['userId', 'orders']"
   ]
  },
  {
   "cell_type": "code",
   "execution_count": 57,
   "metadata": {},
   "outputs": [],
   "source": [
    "ordersByUsersB = (\n",
    "    orders[orders['group'] == 'B']\n",
    "    .groupby('visitorId', as_index=False)\n",
    "    .agg({'transactionId': pd.Series.nunique})\n",
    ") #число заказов для пользователей группы B, совершивших хотя бы один заказ\n",
    "ordersByUsersB.columns = ['userId', 'orders'] "
   ]
  },
  {
   "cell_type": "code",
   "execution_count": 58,
   "metadata": {},
   "outputs": [],
   "source": [
    "sampleA = pd.concat([ordersByUsersA['orders'],pd.Series(0, index=np.arange(\n",
    "    data['visitorsPerDateA'].sum() - len(ordersByUsersA['orders'])), name='orders')],axis=0)"
   ]
  },
  {
   "cell_type": "code",
   "execution_count": 59,
   "metadata": {},
   "outputs": [],
   "source": [
    "sampleB = pd.concat([ordersByUsersB['orders'],pd.Series(0, index=np.arange(\n",
    "    data['visitorsPerDateB'].sum() - len(ordersByUsersB['orders'])), name='orders')],axis=0)"
   ]
  },
  {
   "cell_type": "markdown",
   "metadata": {},
   "source": [
    "Воспользуемся критерием Манна-Уитни для расчета статистической значимости."
   ]
  },
  {
   "cell_type": "code",
   "execution_count": 60,
   "metadata": {},
   "outputs": [
    {
     "data": {
      "text/plain": [
       "'0.01679'"
      ]
     },
     "execution_count": 60,
     "metadata": {},
     "output_type": "execute_result"
    }
   ],
   "source": [
    "'{0:.5f}'.format(stats.mannwhitneyu(sampleA, sampleB, alternative=\"two-sided\")[1])"
   ]
  },
  {
   "cell_type": "code",
   "execution_count": 61,
   "metadata": {},
   "outputs": [
    {
     "data": {
      "text/plain": [
       "'0.138'"
      ]
     },
     "execution_count": 61,
     "metadata": {},
     "output_type": "execute_result"
    }
   ],
   "source": [
    "\"{0:.3f}\".format((data['ordersPerDateB'].sum()/data['visitorsPerDateB'].sum())\n",
    "                 /(data['ordersPerDateA'].sum()/data['visitorsPerDateA'].sum())-1)"
   ]
  },
  {
   "cell_type": "markdown",
   "metadata": {},
   "source": [
    "P-value меньше 0,05 - значит нулевую гипотезу отвергаем. Статистическая значимость в количестве заказов между группами в случае расчета по \"сырым\" данным есть. Относительный прирост заказов группы B к группе A составил 13,8%."
   ]
  },
  {
   "cell_type": "markdown",
   "metadata": {},
   "source": [
    "#### Расчет статистической значимости различий в среднем чеке заказа между группами по «сырым» данным"
   ]
  },
  {
   "cell_type": "markdown",
   "metadata": {},
   "source": [
    "Нулевая гипотеза: статистической значимости в среднем чеке заказа между группами нет.\n",
    "\n",
    "Альтернативная гипотеза: статистическая значимость в среднем чеке заказа между группами есть."
   ]
  },
  {
   "cell_type": "code",
   "execution_count": 62,
   "metadata": {},
   "outputs": [
    {
     "data": {
      "text/plain": [
       "'0.729'"
      ]
     },
     "execution_count": 62,
     "metadata": {},
     "output_type": "execute_result"
    }
   ],
   "source": [
    "'{0:.3f}'.format(stats.mannwhitneyu(orders[orders['group']=='A']['revenue'], orders[orders['group']=='B']['revenue'],\n",
    "                                    alternative=\"two-sided\")[1])"
   ]
  },
  {
   "cell_type": "code",
   "execution_count": 63,
   "metadata": {},
   "outputs": [
    {
     "data": {
      "text/plain": [
       "'0.259'"
      ]
     },
     "execution_count": 63,
     "metadata": {},
     "output_type": "execute_result"
    }
   ],
   "source": [
    "'{0:.3f}'.format(orders[orders['group']=='B']['revenue'].mean()/orders[orders['group']=='A']['revenue'].mean()-1)"
   ]
  },
  {
   "cell_type": "markdown",
   "metadata": {},
   "source": [
    "P-value значительно выше 0,05, следовательно, статистически значимых отличий в среднем чеке между группами нет. Однако относительное различие между группам составило 25,9%. Выглядит взаимоисключающе. Вполне возможно, что на это повлияли аномальные значения. "
   ]
  },
  {
   "cell_type": "markdown",
   "metadata": {},
   "source": [
    "#### Расчет статистической значимости различий в среднем количестве заказов на посетителя между группами по «очищенным» данным"
   ]
  },
  {
   "cell_type": "markdown",
   "metadata": {},
   "source": [
    "Нулевая гипотеза: статистической значимости в среднем чеке заказа между группами нет.\n",
    "\n",
    "Альтернативная гипотеза: статистическая значимость в среднем чеке заказа между группами есть."
   ]
  },
  {
   "cell_type": "markdown",
   "metadata": {},
   "source": [
    "Теперь напишем фильтр, чтобы отсеять аномальные значения. Помним, что в качестве границы мы выбрали 4 заказа на пользователя и стоимость заказа 58300."
   ]
  },
  {
   "cell_type": "code",
   "execution_count": 64,
   "metadata": {},
   "outputs": [],
   "source": [
    "usersWithManyOrders = pd.concat(\n",
    "    [\n",
    "        ordersByUsersA[ordersByUsersA['orders'] > 4]['userId'],\n",
    "        ordersByUsersB[ordersByUsersB['orders'] > 4]['userId'],\n",
    "    ],\n",
    "    axis=0,\n",
    ")\n",
    "usersWithExpensiveOrders = orders[orders['revenue'] > 58300]['visitorId']\n",
    "abnormalUsers = (\n",
    "    pd.concat([usersWithManyOrders, usersWithExpensiveOrders], axis=0)\n",
    "    .drop_duplicates()\n",
    "    .sort_values()\n",
    ")"
   ]
  },
  {
   "cell_type": "code",
   "execution_count": 65,
   "metadata": {},
   "outputs": [],
   "source": [
    "sampleAFiltered = pd.concat(\n",
    "    [\n",
    "        ordersByUsersA[\n",
    "            np.logical_not(ordersByUsersA['userId'].isin(abnormalUsers))\n",
    "        ]['orders'],\n",
    "        pd.Series(\n",
    "            0,\n",
    "            index=np.arange(\n",
    "                data['visitorsPerDateA'].sum() - len(ordersByUsersA['orders'])\n",
    "            ),\n",
    "            name='orders',\n",
    "        ),\n",
    "    ],\n",
    "    axis=0,\n",
    ")"
   ]
  },
  {
   "cell_type": "code",
   "execution_count": 66,
   "metadata": {},
   "outputs": [],
   "source": [
    "sampleBFiltered = pd.concat(\n",
    "    [\n",
    "        ordersByUsersB[\n",
    "            np.logical_not(ordersByUsersB['userId'].isin(abnormalUsers))\n",
    "        ]['orders'],\n",
    "        pd.Series(\n",
    "            0,\n",
    "            index=np.arange(\n",
    "                data['visitorsPerDateB'].sum() - len(ordersByUsersB['orders'])\n",
    "            ),\n",
    "            name='orders',\n",
    "        ),\n",
    "    ],\n",
    "    axis=0,\n",
    ") \n"
   ]
  },
  {
   "cell_type": "code",
   "execution_count": 67,
   "metadata": {},
   "outputs": [
    {
     "data": {
      "text/plain": [
       "'0.01438'"
      ]
     },
     "execution_count": 67,
     "metadata": {},
     "output_type": "execute_result"
    }
   ],
   "source": [
    "'{0:.5f}'.format(stats.mannwhitneyu(sampleAFiltered, sampleBFiltered, alternative=\"two-sided\")[1])"
   ]
  },
  {
   "cell_type": "code",
   "execution_count": 68,
   "metadata": {},
   "outputs": [
    {
     "data": {
      "text/plain": [
       "'0.153'"
      ]
     },
     "execution_count": 68,
     "metadata": {},
     "output_type": "execute_result"
    }
   ],
   "source": [
    "'{0:.3f}'.format(sampleBFiltered.mean()/sampleAFiltered.mean()-1)"
   ]
  },
  {
   "cell_type": "markdown",
   "metadata": {},
   "source": [
    "P-value все так же меньше 0,05. Нулевую гипотезу отвергаем. Статистически значимое отличие в количестве заказов между группами при расчете по очищенным данным есть. Относительное отличие между группами составило 15,3%."
   ]
  },
  {
   "cell_type": "markdown",
   "metadata": {},
   "source": [
    "#### Расчет статистической значимости различий в среднем чеке заказа между группами по «очищенным» данным"
   ]
  },
  {
   "cell_type": "markdown",
   "metadata": {},
   "source": [
    "Нулевая гипотеза: статистической значимости в среднем чеке заказа между группами нет.\n",
    "\n",
    "Альтернативная гипотеза: статистическая значимость в среднем чеке заказа между группами есть."
   ]
  },
  {
   "cell_type": "code",
   "execution_count": 69,
   "metadata": {},
   "outputs": [
    {
     "data": {
      "text/plain": [
       "'0.851'"
      ]
     },
     "execution_count": 69,
     "metadata": {},
     "output_type": "execute_result"
    }
   ],
   "source": [
    "'{0:.3f}'.format(\n",
    "        stats.mannwhitneyu(\n",
    "            orders[\n",
    "                np.logical_and(\n",
    "                    orders['group'] == 'A',\n",
    "                    np.logical_not(orders['visitorId'].isin(abnormalUsers)),\n",
    "                )\n",
    "            ]['revenue'],\n",
    "            orders[\n",
    "                np.logical_and(\n",
    "                    orders['group'] == 'B',\n",
    "                    np.logical_not(orders['visitorId'].isin(abnormalUsers)),\n",
    "                )\n",
    "            ]['revenue'],\n",
    "            alternative=\"two-sided\"\n",
    "        )[1]\n",
    "    )"
   ]
  },
  {
   "cell_type": "code",
   "execution_count": 70,
   "metadata": {},
   "outputs": [
    {
     "data": {
      "text/plain": [
       "'-0.006'"
      ]
     },
     "execution_count": 70,
     "metadata": {},
     "output_type": "execute_result"
    }
   ],
   "source": [
    "\"{0:.3f}\".format(\n",
    "        orders[\n",
    "            np.logical_and(\n",
    "                orders['group'] == 'B',\n",
    "                np.logical_not(orders['visitorId'].isin(abnormalUsers)),\n",
    "            )\n",
    "        ]['revenue'].mean()\n",
    "        / orders[\n",
    "            np.logical_and(\n",
    "                orders['group'] == 'A',\n",
    "                np.logical_not(orders['visitorId'].isin(abnormalUsers)),\n",
    "            )\n",
    "        ]['revenue'].mean()\n",
    "        - 1\n",
    "    )"
   ]
  },
  {
   "cell_type": "markdown",
   "metadata": {},
   "source": [
    "P-value значительно выше 0,05, следовательно, нулевая гипотеза подтвердилось. Отличий в среднем чеке практически нет. Значит предположение о том, что на этот параметр оказали влияния аномальные значения, подтвердилось."
   ]
  },
  {
   "cell_type": "markdown",
   "metadata": {},
   "source": [
    "### Выводы и общие рекомендации"
   ]
  },
  {
   "cell_type": "markdown",
   "metadata": {},
   "source": [
    "В ходе исследования были изучены предложенные отделом маркетинга гипотезы для увеличения выручки интернет-магазина и выбраны наиболее перспективные из них (7,2,0,6).\n",
    "\n",
    "Затем был выполнен анализ A/B-теста, который продемонстрировал, что:\n",
    "- кривые роста кумулятивной выручки и среднего чека колеблются и имеют очень схожий характер, но у тестируемой группы присутствует резкий скачок. Как выяснилось позже, к нему привел уникальный заказ, стоимость которого более чем в 10 раз выше абсолютного большинства других;\n",
    "- среднее количество заказов на посетителя растет в тестовой группе в течение первой недели теста, затем стабилизируется, и кривые приобретают схожий характер;\n",
    "- статистическая значимость в среднем количестве заказов на посетителя между группами есть как при расчете по \"сырым\" данным, так и по \"очищенным\" данным. Однако сопоставляя этот факт с выводом, сделанным по графику, можно предположить, что рост количества заказов в группе B имеет кратковременный эффект;\n",
    "- статистической значимости в среднем чеке между группами при расчете по \"сырым\" и \"очищенным\" данным не обнаружено. Однако при расчете по \"сырым\" данным было обнаружено подозрительное относительное отличие между группами (25,9%), которое \"исчезает\" после применения фильтра. Скорее всего, это следствие все того же уникального заказа.\n",
    "\n",
    "Эффект от применения гипотезы считаю незначительным. Тест предлагаю остановить."
   ]
  },
  {
   "cell_type": "code",
   "execution_count": null,
   "metadata": {},
   "outputs": [],
   "source": []
  }
 ],
 "metadata": {
  "ExecuteTimeLog": [
   {
    "duration": 457,
    "start_time": "2023-04-03T10:09:19.008Z"
   },
   {
    "duration": 72,
    "start_time": "2023-04-03T11:41:39.915Z"
   },
   {
    "duration": 38,
    "start_time": "2023-04-03T11:41:56.991Z"
   },
   {
    "duration": 4,
    "start_time": "2023-04-03T12:17:22.991Z"
   },
   {
    "duration": 14,
    "start_time": "2023-04-03T12:19:54.382Z"
   },
   {
    "duration": 10,
    "start_time": "2023-04-03T12:25:04.742Z"
   },
   {
    "duration": 12,
    "start_time": "2023-04-03T12:58:54.053Z"
   },
   {
    "duration": 73,
    "start_time": "2023-04-03T13:01:33.619Z"
   },
   {
    "duration": 9,
    "start_time": "2023-04-03T13:01:38.100Z"
   },
   {
    "duration": 14,
    "start_time": "2023-04-03T13:01:48.972Z"
   },
   {
    "duration": 5,
    "start_time": "2023-04-03T13:03:26.770Z"
   },
   {
    "duration": 5,
    "start_time": "2023-04-03T13:04:36.862Z"
   },
   {
    "duration": 386,
    "start_time": "2023-04-03T13:34:20.884Z"
   },
   {
    "duration": 80,
    "start_time": "2023-04-03T13:35:12.491Z"
   },
   {
    "duration": 50,
    "start_time": "2023-04-03T13:35:16.418Z"
   },
   {
    "duration": 104,
    "start_time": "2023-04-03T13:36:14.146Z"
   },
   {
    "duration": 9,
    "start_time": "2023-04-03T13:36:23.694Z"
   },
   {
    "duration": 52,
    "start_time": "2023-04-03T13:36:34.098Z"
   },
   {
    "duration": 27,
    "start_time": "2023-04-03T13:36:38.794Z"
   },
   {
    "duration": 681,
    "start_time": "2023-04-03T13:39:12.247Z"
   },
   {
    "duration": 1302,
    "start_time": "2023-04-03T13:39:20.729Z"
   },
   {
    "duration": 51,
    "start_time": "2023-04-03T13:39:31.241Z"
   },
   {
    "duration": 17,
    "start_time": "2023-04-03T13:39:57.105Z"
   },
   {
    "duration": 59,
    "start_time": "2023-04-03T13:40:18.392Z"
   },
   {
    "duration": 13,
    "start_time": "2023-04-03T13:41:00.290Z"
   },
   {
    "duration": 30,
    "start_time": "2023-04-03T13:41:38.696Z"
   },
   {
    "duration": 8,
    "start_time": "2023-04-03T13:42:34.441Z"
   },
   {
    "duration": 23,
    "start_time": "2023-04-03T13:42:49.274Z"
   },
   {
    "duration": 160,
    "start_time": "2023-04-03T13:43:31.677Z"
   },
   {
    "duration": 9,
    "start_time": "2023-04-03T13:43:59.808Z"
   },
   {
    "duration": 108,
    "start_time": "2023-04-03T13:44:19.779Z"
   },
   {
    "duration": 9,
    "start_time": "2023-04-03T13:44:47.695Z"
   },
   {
    "duration": 3,
    "start_time": "2023-04-03T13:44:55.584Z"
   },
   {
    "duration": 8,
    "start_time": "2023-04-03T13:45:05.056Z"
   },
   {
    "duration": 252,
    "start_time": "2023-04-03T13:45:13.071Z"
   },
   {
    "duration": 8,
    "start_time": "2023-04-03T13:46:07.320Z"
   },
   {
    "duration": 12,
    "start_time": "2023-04-03T13:47:04.246Z"
   },
   {
    "duration": 6,
    "start_time": "2023-04-03T13:50:41.956Z"
   },
   {
    "duration": 11,
    "start_time": "2023-04-03T15:12:13.674Z"
   },
   {
    "duration": 6,
    "start_time": "2023-04-03T15:13:28.080Z"
   },
   {
    "duration": 176,
    "start_time": "2023-04-03T15:17:58.428Z"
   },
   {
    "duration": 241,
    "start_time": "2023-04-03T15:18:13.645Z"
   },
   {
    "duration": 196,
    "start_time": "2023-04-03T15:19:31.596Z"
   },
   {
    "duration": 172,
    "start_time": "2023-04-03T15:20:16.740Z"
   },
   {
    "duration": 175,
    "start_time": "2023-04-03T15:20:26.553Z"
   },
   {
    "duration": 194,
    "start_time": "2023-04-03T15:20:39.603Z"
   },
   {
    "duration": 198,
    "start_time": "2023-04-03T15:20:46.180Z"
   },
   {
    "duration": 172,
    "start_time": "2023-04-03T15:20:53.789Z"
   },
   {
    "duration": 295,
    "start_time": "2023-04-03T15:29:50.971Z"
   },
   {
    "duration": 352,
    "start_time": "2023-04-03T15:30:08.906Z"
   },
   {
    "duration": 160,
    "start_time": "2023-04-03T15:31:04.483Z"
   },
   {
    "duration": 215,
    "start_time": "2023-04-03T15:31:17.329Z"
   },
   {
    "duration": 308,
    "start_time": "2023-04-03T15:32:14.440Z"
   },
   {
    "duration": 217,
    "start_time": "2023-04-03T15:32:33.631Z"
   },
   {
    "duration": 213,
    "start_time": "2023-04-03T15:32:48.528Z"
   },
   {
    "duration": 205,
    "start_time": "2023-04-03T15:33:00.720Z"
   },
   {
    "duration": 254,
    "start_time": "2023-04-03T15:33:09.191Z"
   },
   {
    "duration": 195,
    "start_time": "2023-04-03T15:43:01.566Z"
   },
   {
    "duration": 209,
    "start_time": "2023-04-03T15:44:06.173Z"
   },
   {
    "duration": 6,
    "start_time": "2023-04-03T15:51:22.634Z"
   },
   {
    "duration": 7,
    "start_time": "2023-04-03T15:51:28.907Z"
   },
   {
    "duration": 347,
    "start_time": "2023-04-03T15:52:00.115Z"
   },
   {
    "duration": 348,
    "start_time": "2023-04-03T15:53:31.810Z"
   },
   {
    "duration": 317,
    "start_time": "2023-04-03T15:54:37.994Z"
   },
   {
    "duration": 328,
    "start_time": "2023-04-03T15:55:00.505Z"
   },
   {
    "duration": 4,
    "start_time": "2023-04-03T16:13:43.916Z"
   },
   {
    "duration": 4,
    "start_time": "2023-04-03T16:13:50.700Z"
   },
   {
    "duration": 285,
    "start_time": "2023-04-03T16:14:12.140Z"
   },
   {
    "duration": 155,
    "start_time": "2023-04-03T16:14:45.900Z"
   },
   {
    "duration": 181,
    "start_time": "2023-04-03T16:14:59.196Z"
   },
   {
    "duration": 176,
    "start_time": "2023-04-03T16:15:40.116Z"
   },
   {
    "duration": 198,
    "start_time": "2023-04-03T16:15:51.684Z"
   },
   {
    "duration": 189,
    "start_time": "2023-04-03T16:16:19.196Z"
   },
   {
    "duration": 157,
    "start_time": "2023-04-03T16:16:27.586Z"
   },
   {
    "duration": 175,
    "start_time": "2023-04-03T16:16:33.651Z"
   },
   {
    "duration": 178,
    "start_time": "2023-04-03T16:16:40.755Z"
   },
   {
    "duration": 187,
    "start_time": "2023-04-03T16:16:51.124Z"
   },
   {
    "duration": 240,
    "start_time": "2023-04-03T16:17:03.747Z"
   },
   {
    "duration": 211,
    "start_time": "2023-04-03T16:21:06.442Z"
   },
   {
    "duration": 7,
    "start_time": "2023-04-03T16:36:08.117Z"
   },
   {
    "duration": 443,
    "start_time": "2023-04-03T16:36:16.840Z"
   },
   {
    "duration": 363,
    "start_time": "2023-04-03T16:36:58.671Z"
   },
   {
    "duration": 374,
    "start_time": "2023-04-03T16:37:57.221Z"
   },
   {
    "duration": 392,
    "start_time": "2023-04-03T16:38:09.797Z"
   },
   {
    "duration": 366,
    "start_time": "2023-04-03T16:38:21.080Z"
   },
   {
    "duration": 391,
    "start_time": "2023-04-03T16:40:48.393Z"
   },
   {
    "duration": 8,
    "start_time": "2023-04-03T17:23:11.955Z"
   },
   {
    "duration": 11,
    "start_time": "2023-04-03T17:23:21.366Z"
   },
   {
    "duration": 14,
    "start_time": "2023-04-03T17:23:35.271Z"
   },
   {
    "duration": 7,
    "start_time": "2023-04-03T17:23:46.199Z"
   },
   {
    "duration": 7,
    "start_time": "2023-04-03T17:24:15.494Z"
   },
   {
    "duration": 8,
    "start_time": "2023-04-03T17:24:26.623Z"
   },
   {
    "duration": 109,
    "start_time": "2023-04-03T17:24:45.005Z"
   },
   {
    "duration": 137,
    "start_time": "2023-04-03T17:32:27.820Z"
   },
   {
    "duration": 56,
    "start_time": "2023-04-03T17:36:36.645Z"
   },
   {
    "duration": 5,
    "start_time": "2023-04-03T17:37:14.829Z"
   },
   {
    "duration": 6,
    "start_time": "2023-04-03T17:37:24.303Z"
   },
   {
    "duration": 169,
    "start_time": "2023-04-03T17:41:15.703Z"
   },
   {
    "duration": 152,
    "start_time": "2023-04-03T17:42:06.164Z"
   },
   {
    "duration": 10,
    "start_time": "2023-04-03T17:45:17.258Z"
   },
   {
    "duration": 6,
    "start_time": "2023-04-03T17:45:25.817Z"
   },
   {
    "duration": 415,
    "start_time": "2023-04-03T17:52:35.264Z"
   },
   {
    "duration": 35,
    "start_time": "2023-04-03T17:52:35.682Z"
   },
   {
    "duration": 4,
    "start_time": "2023-04-03T17:52:35.718Z"
   },
   {
    "duration": 7,
    "start_time": "2023-04-03T17:52:35.723Z"
   },
   {
    "duration": 30,
    "start_time": "2023-04-03T17:52:35.732Z"
   },
   {
    "duration": 16,
    "start_time": "2023-04-03T17:52:35.765Z"
   },
   {
    "duration": 351,
    "start_time": "2023-04-03T17:52:35.783Z"
   },
   {
    "duration": 61,
    "start_time": "2023-04-03T17:52:36.135Z"
   },
   {
    "duration": 24,
    "start_time": "2023-04-03T17:52:36.198Z"
   },
   {
    "duration": 5,
    "start_time": "2023-04-03T17:52:36.224Z"
   },
   {
    "duration": 201,
    "start_time": "2023-04-03T17:52:36.231Z"
   },
   {
    "duration": 157,
    "start_time": "2023-04-03T17:52:36.434Z"
   },
   {
    "duration": 6,
    "start_time": "2023-04-03T17:52:36.594Z"
   },
   {
    "duration": 3,
    "start_time": "2023-04-03T17:52:36.605Z"
   },
   {
    "duration": 7,
    "start_time": "2023-04-03T17:52:36.610Z"
   },
   {
    "duration": 417,
    "start_time": "2023-04-03T17:52:36.619Z"
   },
   {
    "duration": 267,
    "start_time": "2023-04-03T17:52:37.043Z"
   },
   {
    "duration": 6,
    "start_time": "2023-04-03T17:52:37.312Z"
   },
   {
    "duration": 374,
    "start_time": "2023-04-03T17:52:37.321Z"
   },
   {
    "duration": 4,
    "start_time": "2023-04-03T17:52:37.697Z"
   },
   {
    "duration": 8,
    "start_time": "2023-04-03T17:52:37.703Z"
   },
   {
    "duration": 314,
    "start_time": "2023-04-03T17:52:37.713Z"
   },
   {
    "duration": 17,
    "start_time": "2023-04-03T17:52:38.029Z"
   },
   {
    "duration": 379,
    "start_time": "2023-04-03T17:52:38.047Z"
   },
   {
    "duration": 20,
    "start_time": "2023-04-03T17:52:38.427Z"
   },
   {
    "duration": 11,
    "start_time": "2023-04-03T17:52:38.449Z"
   },
   {
    "duration": 144,
    "start_time": "2023-04-03T17:52:38.461Z"
   },
   {
    "duration": 9,
    "start_time": "2023-04-03T17:52:38.607Z"
   },
   {
    "duration": 184,
    "start_time": "2023-04-03T17:52:38.618Z"
   },
   {
    "duration": 5,
    "start_time": "2023-04-03T17:52:38.804Z"
   },
   {
    "duration": 7,
    "start_time": "2023-04-03T18:02:38.897Z"
   },
   {
    "duration": 59,
    "start_time": "2023-04-03T18:02:51.525Z"
   },
   {
    "duration": 60,
    "start_time": "2023-04-03T18:04:55.428Z"
   },
   {
    "duration": 62,
    "start_time": "2023-04-03T18:05:14.753Z"
   },
   {
    "duration": 5,
    "start_time": "2023-04-03T18:05:23.888Z"
   },
   {
    "duration": 5,
    "start_time": "2023-04-03T18:05:42.078Z"
   },
   {
    "duration": 68,
    "start_time": "2023-04-03T18:05:49.453Z"
   },
   {
    "duration": 93,
    "start_time": "2023-04-03T18:06:54.075Z"
   },
   {
    "duration": 16,
    "start_time": "2023-04-03T18:07:09.774Z"
   },
   {
    "duration": 17,
    "start_time": "2023-04-03T18:07:21.813Z"
   },
   {
    "duration": 62,
    "start_time": "2023-04-03T18:10:12.853Z"
   },
   {
    "duration": 13,
    "start_time": "2023-04-03T18:10:23.702Z"
   },
   {
    "duration": 16,
    "start_time": "2023-04-03T18:10:49.306Z"
   },
   {
    "duration": 72,
    "start_time": "2023-04-03T18:11:08.906Z"
   },
   {
    "duration": 72,
    "start_time": "2023-04-03T18:11:11.834Z"
   },
   {
    "duration": 23,
    "start_time": "2023-04-03T18:12:42.635Z"
   },
   {
    "duration": 59,
    "start_time": "2023-04-03T18:12:43.930Z"
   },
   {
    "duration": 24,
    "start_time": "2023-04-03T18:14:19.610Z"
   },
   {
    "duration": 17,
    "start_time": "2023-04-03T18:16:41.610Z"
   },
   {
    "duration": 83,
    "start_time": "2023-04-03T18:17:12.634Z"
   },
   {
    "duration": 114,
    "start_time": "2023-04-03T18:17:39.968Z"
   },
   {
    "duration": 81,
    "start_time": "2023-04-03T18:17:42.393Z"
   },
   {
    "duration": 7,
    "start_time": "2023-04-03T18:18:30.201Z"
   },
   {
    "duration": 5,
    "start_time": "2023-04-03T18:18:44.617Z"
   },
   {
    "duration": 86,
    "start_time": "2023-04-03T18:20:02.137Z"
   },
   {
    "duration": 888,
    "start_time": "2023-04-03T18:23:12.082Z"
   },
   {
    "duration": 9,
    "start_time": "2023-04-03T18:23:28.913Z"
   },
   {
    "duration": 12,
    "start_time": "2023-04-03T18:23:31.514Z"
   },
   {
    "duration": 7,
    "start_time": "2023-04-03T18:25:29.407Z"
   },
   {
    "duration": 7,
    "start_time": "2023-04-03T18:25:40.911Z"
   },
   {
    "duration": 9,
    "start_time": "2023-04-03T18:26:27.277Z"
   },
   {
    "duration": 418,
    "start_time": "2023-04-03T18:27:14.487Z"
   },
   {
    "duration": 32,
    "start_time": "2023-04-03T18:27:19.175Z"
   },
   {
    "duration": 25,
    "start_time": "2023-04-03T18:27:25.063Z"
   },
   {
    "duration": 5,
    "start_time": "2023-04-03T18:27:28.756Z"
   },
   {
    "duration": 26,
    "start_time": "2023-04-03T18:31:27.583Z"
   },
   {
    "duration": 6,
    "start_time": "2023-04-03T18:31:36.030Z"
   },
   {
    "duration": 10,
    "start_time": "2023-04-03T18:38:44.006Z"
   },
   {
    "duration": 10,
    "start_time": "2023-04-03T18:39:08.141Z"
   },
   {
    "duration": 30,
    "start_time": "2023-04-03T18:44:02.170Z"
   },
   {
    "duration": 6,
    "start_time": "2023-04-03T18:44:40.236Z"
   },
   {
    "duration": 1015,
    "start_time": "2023-04-03T18:48:47.162Z"
   },
   {
    "duration": 18,
    "start_time": "2023-04-03T18:49:22.733Z"
   },
   {
    "duration": 10,
    "start_time": "2023-04-03T18:50:32.773Z"
   },
   {
    "duration": 450,
    "start_time": "2023-04-04T05:49:27.987Z"
   },
   {
    "duration": 832,
    "start_time": "2023-04-04T05:49:28.563Z"
   },
   {
    "duration": 87,
    "start_time": "2023-04-04T05:49:29.397Z"
   },
   {
    "duration": 72,
    "start_time": "2023-04-04T05:49:29.486Z"
   },
   {
    "duration": 7,
    "start_time": "2023-04-04T05:49:29.561Z"
   },
   {
    "duration": 183,
    "start_time": "2023-04-04T05:49:29.570Z"
   },
   {
    "duration": 132,
    "start_time": "2023-04-04T05:49:29.755Z"
   },
   {
    "duration": 20,
    "start_time": "2023-04-04T05:49:29.888Z"
   },
   {
    "duration": 7,
    "start_time": "2023-04-04T05:49:29.910Z"
   },
   {
    "duration": 9,
    "start_time": "2023-04-04T05:49:29.918Z"
   },
   {
    "duration": 339,
    "start_time": "2023-04-04T05:49:29.929Z"
   },
   {
    "duration": 251,
    "start_time": "2023-04-04T05:49:30.270Z"
   },
   {
    "duration": 7,
    "start_time": "2023-04-04T05:49:30.523Z"
   },
   {
    "duration": 419,
    "start_time": "2023-04-04T05:49:30.532Z"
   },
   {
    "duration": 5,
    "start_time": "2023-04-04T05:49:30.953Z"
   },
   {
    "duration": 34,
    "start_time": "2023-04-04T05:49:30.960Z"
   },
   {
    "duration": 266,
    "start_time": "2023-04-04T05:49:30.995Z"
   },
   {
    "duration": 8,
    "start_time": "2023-04-04T05:49:31.263Z"
   },
   {
    "duration": 349,
    "start_time": "2023-04-04T05:49:31.272Z"
   },
   {
    "duration": 6,
    "start_time": "2023-04-04T05:49:31.623Z"
   },
   {
    "duration": 32,
    "start_time": "2023-04-04T05:49:31.631Z"
   },
   {
    "duration": 153,
    "start_time": "2023-04-04T05:49:31.665Z"
   },
   {
    "duration": 5,
    "start_time": "2023-04-04T05:49:31.821Z"
   },
   {
    "duration": 203,
    "start_time": "2023-04-04T05:49:31.828Z"
   },
   {
    "duration": 6,
    "start_time": "2023-04-04T05:49:32.033Z"
   },
   {
    "duration": 50,
    "start_time": "2023-04-04T05:49:32.041Z"
   },
   {
    "duration": 95,
    "start_time": "2023-04-04T05:49:32.094Z"
   },
   {
    "duration": 18,
    "start_time": "2023-04-04T05:49:32.191Z"
   },
   {
    "duration": 59,
    "start_time": "2023-04-04T05:49:32.211Z"
   },
   {
    "duration": 20,
    "start_time": "2023-04-04T05:49:32.272Z"
   },
   {
    "duration": 54,
    "start_time": "2023-04-04T05:49:32.294Z"
   },
   {
    "duration": 35,
    "start_time": "2023-04-04T05:49:32.350Z"
   },
   {
    "duration": 69,
    "start_time": "2023-04-04T05:49:32.387Z"
   },
   {
    "duration": 52,
    "start_time": "2023-04-04T05:49:32.458Z"
   },
   {
    "duration": 78,
    "start_time": "2023-04-04T05:49:32.512Z"
   },
   {
    "duration": 87,
    "start_time": "2023-04-04T05:49:32.591Z"
   },
   {
    "duration": 5,
    "start_time": "2023-04-04T05:49:32.680Z"
   },
   {
    "duration": 29,
    "start_time": "2023-04-04T05:49:32.687Z"
   },
   {
    "duration": 26,
    "start_time": "2023-04-04T05:49:32.718Z"
   },
   {
    "duration": 6,
    "start_time": "2023-04-04T05:49:32.746Z"
   },
   {
    "duration": 11,
    "start_time": "2023-04-04T05:49:32.754Z"
   },
   {
    "duration": 8,
    "start_time": "2023-04-04T05:49:32.767Z"
   },
   {
    "duration": 27,
    "start_time": "2023-04-04T05:49:32.776Z"
   },
   {
    "duration": 6,
    "start_time": "2023-04-04T05:49:32.804Z"
   },
   {
    "duration": 18,
    "start_time": "2023-04-04T05:49:32.811Z"
   },
   {
    "duration": 22,
    "start_time": "2023-04-04T05:49:32.830Z"
   },
   {
    "duration": 19,
    "start_time": "2023-04-04T05:49:32.853Z"
   },
   {
    "duration": 23,
    "start_time": "2023-04-04T05:49:32.873Z"
   },
   {
    "duration": 17,
    "start_time": "2023-04-04T05:49:32.898Z"
   },
   {
    "duration": 406,
    "start_time": "2023-04-04T05:52:33.607Z"
   },
   {
    "duration": 33,
    "start_time": "2023-04-04T05:52:34.016Z"
   },
   {
    "duration": 3,
    "start_time": "2023-04-04T05:52:34.050Z"
   },
   {
    "duration": 16,
    "start_time": "2023-04-04T05:52:34.055Z"
   },
   {
    "duration": 15,
    "start_time": "2023-04-04T05:52:34.073Z"
   },
   {
    "duration": 11,
    "start_time": "2023-04-04T05:52:34.089Z"
   },
   {
    "duration": 695,
    "start_time": "2023-04-04T05:52:34.101Z"
   },
   {
    "duration": 47,
    "start_time": "2023-04-04T05:52:34.798Z"
   },
   {
    "duration": 23,
    "start_time": "2023-04-04T05:52:34.847Z"
   },
   {
    "duration": 6,
    "start_time": "2023-04-04T05:52:34.873Z"
   },
   {
    "duration": 175,
    "start_time": "2023-04-04T05:52:34.880Z"
   },
   {
    "duration": 122,
    "start_time": "2023-04-04T05:52:35.057Z"
   },
   {
    "duration": 6,
    "start_time": "2023-04-04T05:52:35.180Z"
   },
   {
    "duration": 23,
    "start_time": "2023-04-04T05:52:35.188Z"
   },
   {
    "duration": 38,
    "start_time": "2023-04-04T05:52:35.212Z"
   },
   {
    "duration": 320,
    "start_time": "2023-04-04T05:52:35.251Z"
   },
   {
    "duration": 241,
    "start_time": "2023-04-04T05:52:35.573Z"
   },
   {
    "duration": 6,
    "start_time": "2023-04-04T05:52:35.816Z"
   },
   {
    "duration": 333,
    "start_time": "2023-04-04T05:52:35.824Z"
   },
   {
    "duration": 5,
    "start_time": "2023-04-04T05:52:36.158Z"
   },
   {
    "duration": 15,
    "start_time": "2023-04-04T05:52:36.165Z"
   },
   {
    "duration": 243,
    "start_time": "2023-04-04T05:52:36.182Z"
   },
   {
    "duration": 8,
    "start_time": "2023-04-04T05:52:36.427Z"
   },
   {
    "duration": 319,
    "start_time": "2023-04-04T05:52:36.437Z"
   },
   {
    "duration": 8,
    "start_time": "2023-04-04T05:52:36.758Z"
   },
   {
    "duration": 13,
    "start_time": "2023-04-04T05:52:36.768Z"
   },
   {
    "duration": 139,
    "start_time": "2023-04-04T05:52:36.783Z"
   },
   {
    "duration": 5,
    "start_time": "2023-04-04T05:52:36.927Z"
   },
   {
    "duration": 170,
    "start_time": "2023-04-04T05:52:36.934Z"
   },
   {
    "duration": 5,
    "start_time": "2023-04-04T05:52:37.106Z"
   },
   {
    "duration": 8,
    "start_time": "2023-04-04T05:52:37.113Z"
   },
   {
    "duration": 51,
    "start_time": "2023-04-04T05:52:37.122Z"
   },
   {
    "duration": 9,
    "start_time": "2023-04-04T05:52:37.174Z"
   },
   {
    "duration": 59,
    "start_time": "2023-04-04T05:52:37.185Z"
   },
   {
    "duration": 15,
    "start_time": "2023-04-04T05:52:37.246Z"
   },
   {
    "duration": 64,
    "start_time": "2023-04-04T05:52:37.263Z"
   },
   {
    "duration": 14,
    "start_time": "2023-04-04T05:52:37.329Z"
   },
   {
    "duration": 64,
    "start_time": "2023-04-04T05:52:37.345Z"
   },
   {
    "duration": 22,
    "start_time": "2023-04-04T05:52:37.411Z"
   },
   {
    "duration": 85,
    "start_time": "2023-04-04T05:52:37.435Z"
   },
   {
    "duration": 89,
    "start_time": "2023-04-04T05:52:37.522Z"
   },
   {
    "duration": 5,
    "start_time": "2023-04-04T05:52:37.613Z"
   },
   {
    "duration": 5,
    "start_time": "2023-04-04T05:52:37.619Z"
   },
   {
    "duration": 23,
    "start_time": "2023-04-04T05:52:37.625Z"
   },
   {
    "duration": 4,
    "start_time": "2023-04-04T05:52:37.650Z"
   },
   {
    "duration": 9,
    "start_time": "2023-04-04T05:52:37.656Z"
   },
   {
    "duration": 38,
    "start_time": "2023-04-04T05:52:37.666Z"
   },
   {
    "duration": 7,
    "start_time": "2023-04-04T05:52:37.706Z"
   },
   {
    "duration": 7,
    "start_time": "2023-04-04T05:52:37.715Z"
   },
   {
    "duration": 5,
    "start_time": "2023-04-04T05:52:37.723Z"
   },
   {
    "duration": 23,
    "start_time": "2023-04-04T05:52:37.729Z"
   },
   {
    "duration": 5,
    "start_time": "2023-04-04T05:52:37.753Z"
   },
   {
    "duration": 44,
    "start_time": "2023-04-04T05:52:37.760Z"
   },
   {
    "duration": 10,
    "start_time": "2023-04-04T05:52:37.806Z"
   },
   {
    "duration": 201,
    "start_time": "2023-04-04T08:22:19.471Z"
   },
   {
    "duration": 2,
    "start_time": "2023-04-04T08:22:27.212Z"
   },
   {
    "duration": 3,
    "start_time": "2023-04-04T08:22:37.369Z"
   },
   {
    "duration": 3,
    "start_time": "2023-04-04T08:23:12.177Z"
   },
   {
    "duration": 376,
    "start_time": "2023-04-04T08:23:22.387Z"
   },
   {
    "duration": 83,
    "start_time": "2023-04-04T08:23:22.765Z"
   },
   {
    "duration": 3,
    "start_time": "2023-04-04T08:23:22.850Z"
   },
   {
    "duration": 23,
    "start_time": "2023-04-04T08:23:22.854Z"
   },
   {
    "duration": 17,
    "start_time": "2023-04-04T08:23:22.880Z"
   },
   {
    "duration": 15,
    "start_time": "2023-04-04T08:23:22.899Z"
   },
   {
    "duration": 900,
    "start_time": "2023-04-04T08:23:22.916Z"
   },
   {
    "duration": 113,
    "start_time": "2023-04-04T08:23:23.818Z"
   },
   {
    "duration": 69,
    "start_time": "2023-04-04T08:23:23.933Z"
   },
   {
    "duration": 5,
    "start_time": "2023-04-04T08:23:24.004Z"
   },
   {
    "duration": 146,
    "start_time": "2023-04-04T08:23:24.011Z"
   },
   {
    "duration": 99,
    "start_time": "2023-04-04T08:23:24.158Z"
   },
   {
    "duration": 13,
    "start_time": "2023-04-04T08:23:24.259Z"
   },
   {
    "duration": 3,
    "start_time": "2023-04-04T08:23:24.275Z"
   },
   {
    "duration": 10,
    "start_time": "2023-04-04T08:23:24.279Z"
   },
   {
    "duration": 278,
    "start_time": "2023-04-04T08:23:24.290Z"
   },
   {
    "duration": 195,
    "start_time": "2023-04-04T08:23:24.571Z"
   },
   {
    "duration": 7,
    "start_time": "2023-04-04T08:23:24.768Z"
   },
   {
    "duration": 356,
    "start_time": "2023-04-04T08:23:24.776Z"
   },
   {
    "duration": 3,
    "start_time": "2023-04-04T08:23:25.134Z"
   },
   {
    "duration": 50,
    "start_time": "2023-04-04T08:23:25.139Z"
   },
   {
    "duration": 225,
    "start_time": "2023-04-04T08:23:25.191Z"
   },
   {
    "duration": 7,
    "start_time": "2023-04-04T08:23:25.418Z"
   },
   {
    "duration": 291,
    "start_time": "2023-04-04T08:23:25.427Z"
   },
   {
    "duration": 7,
    "start_time": "2023-04-04T08:23:25.719Z"
   },
   {
    "duration": 39,
    "start_time": "2023-04-04T08:23:25.728Z"
   },
   {
    "duration": 137,
    "start_time": "2023-04-04T08:23:25.770Z"
   },
   {
    "duration": 6,
    "start_time": "2023-04-04T08:23:25.909Z"
   },
   {
    "duration": 163,
    "start_time": "2023-04-04T08:23:25.917Z"
   },
   {
    "duration": 5,
    "start_time": "2023-04-04T08:23:26.082Z"
   },
   {
    "duration": 21,
    "start_time": "2023-04-04T08:23:26.089Z"
   },
   {
    "duration": 130,
    "start_time": "2023-04-04T08:23:26.112Z"
   },
   {
    "duration": 18,
    "start_time": "2023-04-04T08:23:26.244Z"
   },
   {
    "duration": 66,
    "start_time": "2023-04-04T08:23:26.264Z"
   },
   {
    "duration": 20,
    "start_time": "2023-04-04T08:23:26.332Z"
   },
   {
    "duration": 58,
    "start_time": "2023-04-04T08:23:26.354Z"
   },
   {
    "duration": 21,
    "start_time": "2023-04-04T08:23:26.414Z"
   },
   {
    "duration": 52,
    "start_time": "2023-04-04T08:23:26.437Z"
   },
   {
    "duration": 26,
    "start_time": "2023-04-04T08:23:26.491Z"
   },
   {
    "duration": 87,
    "start_time": "2023-04-04T08:23:26.519Z"
   },
   {
    "duration": 79,
    "start_time": "2023-04-04T08:23:26.610Z"
   },
   {
    "duration": 5,
    "start_time": "2023-04-04T08:23:26.690Z"
   },
   {
    "duration": 7,
    "start_time": "2023-04-04T08:23:26.697Z"
   },
   {
    "duration": 41,
    "start_time": "2023-04-04T08:23:26.706Z"
   },
   {
    "duration": 4,
    "start_time": "2023-04-04T08:23:26.749Z"
   },
   {
    "duration": 48,
    "start_time": "2023-04-04T08:23:26.772Z"
   },
   {
    "duration": 76,
    "start_time": "2023-04-04T08:23:26.822Z"
   },
   {
    "duration": 10,
    "start_time": "2023-04-04T08:23:26.900Z"
   },
   {
    "duration": 11,
    "start_time": "2023-04-04T08:23:26.912Z"
   },
   {
    "duration": 15,
    "start_time": "2023-04-04T08:23:26.924Z"
   },
   {
    "duration": 36,
    "start_time": "2023-04-04T08:23:26.941Z"
   },
   {
    "duration": 4,
    "start_time": "2023-04-04T08:23:26.978Z"
   },
   {
    "duration": 13,
    "start_time": "2023-04-04T08:23:26.983Z"
   },
   {
    "duration": 39,
    "start_time": "2023-04-04T08:23:26.997Z"
   },
   {
    "duration": 57,
    "start_time": "2023-04-04T08:24:31.335Z"
   },
   {
    "duration": 29,
    "start_time": "2023-04-04T08:24:58.331Z"
   },
   {
    "duration": 272,
    "start_time": "2023-04-04T08:25:34.927Z"
   },
   {
    "duration": 6,
    "start_time": "2023-04-04T11:40:19.774Z"
   },
   {
    "duration": 6,
    "start_time": "2023-04-04T11:40:23.643Z"
   },
   {
    "duration": 11,
    "start_time": "2023-04-04T11:40:39.366Z"
   },
   {
    "duration": 11,
    "start_time": "2023-04-04T11:40:49.269Z"
   },
   {
    "duration": 10,
    "start_time": "2023-04-04T11:41:00.811Z"
   },
   {
    "duration": 108,
    "start_time": "2023-04-04T11:41:29.027Z"
   },
   {
    "duration": 10,
    "start_time": "2023-04-04T11:42:37.570Z"
   },
   {
    "duration": 6,
    "start_time": "2023-04-04T11:42:41.026Z"
   },
   {
    "duration": 12,
    "start_time": "2023-04-04T11:42:45.735Z"
   },
   {
    "duration": 3,
    "start_time": "2023-04-04T11:42:51.074Z"
   },
   {
    "duration": 11,
    "start_time": "2023-04-04T11:42:52.450Z"
   },
   {
    "duration": 10,
    "start_time": "2023-04-04T11:43:00.275Z"
   },
   {
    "duration": 11,
    "start_time": "2023-04-04T11:43:03.288Z"
   },
   {
    "duration": 11,
    "start_time": "2023-04-04T11:43:04.642Z"
   },
   {
    "duration": 3,
    "start_time": "2023-04-04T11:43:13.266Z"
   },
   {
    "duration": 273,
    "start_time": "2023-04-04T12:20:23.859Z"
   },
   {
    "duration": 129,
    "start_time": "2023-04-04T12:37:01.349Z"
   },
   {
    "duration": 121,
    "start_time": "2023-04-04T12:37:20.617Z"
   },
   {
    "duration": 116,
    "start_time": "2023-04-04T12:37:38.347Z"
   },
   {
    "duration": 141,
    "start_time": "2023-04-04T12:37:54.360Z"
   },
   {
    "duration": 128,
    "start_time": "2023-04-04T12:38:07.552Z"
   },
   {
    "duration": 145,
    "start_time": "2023-04-04T12:38:21.743Z"
   },
   {
    "duration": 129,
    "start_time": "2023-04-04T12:46:56.622Z"
   },
   {
    "duration": 128,
    "start_time": "2023-04-04T12:47:09.525Z"
   },
   {
    "duration": 175,
    "start_time": "2023-04-04T12:47:44.429Z"
   },
   {
    "duration": 104,
    "start_time": "2023-04-04T12:49:19.045Z"
   },
   {
    "duration": 9,
    "start_time": "2023-04-04T12:50:15.436Z"
   },
   {
    "duration": 14,
    "start_time": "2023-04-04T13:30:03.206Z"
   },
   {
    "duration": 14,
    "start_time": "2023-04-04T13:30:18.014Z"
   },
   {
    "duration": 117,
    "start_time": "2023-04-04T13:30:29.054Z"
   },
   {
    "duration": 124,
    "start_time": "2023-04-04T13:30:33.470Z"
   },
   {
    "duration": 86,
    "start_time": "2023-04-04T13:30:52.054Z"
   },
   {
    "duration": 97,
    "start_time": "2023-04-04T13:35:04.494Z"
   },
   {
    "duration": 9,
    "start_time": "2023-04-04T14:09:24.960Z"
   },
   {
    "duration": 193,
    "start_time": "2023-04-04T14:15:10.860Z"
   },
   {
    "duration": 507,
    "start_time": "2023-04-04T14:15:33.988Z"
   },
   {
    "duration": 182,
    "start_time": "2023-04-04T14:22:49.530Z"
   },
   {
    "duration": 8,
    "start_time": "2023-04-04T14:24:01.273Z"
   },
   {
    "duration": 5,
    "start_time": "2023-04-04T14:24:15.328Z"
   },
   {
    "duration": 7,
    "start_time": "2023-04-04T14:29:03.355Z"
   },
   {
    "duration": 5,
    "start_time": "2023-04-04T14:29:12.383Z"
   },
   {
    "duration": 4,
    "start_time": "2023-04-04T14:29:24.175Z"
   },
   {
    "duration": 4,
    "start_time": "2023-04-04T14:32:37.383Z"
   },
   {
    "duration": 4,
    "start_time": "2023-04-04T14:32:50.638Z"
   },
   {
    "duration": 6,
    "start_time": "2023-04-04T14:33:13.742Z"
   },
   {
    "duration": 4,
    "start_time": "2023-04-04T14:33:25.375Z"
   },
   {
    "duration": 320,
    "start_time": "2023-04-04T14:36:51.589Z"
   },
   {
    "duration": 6,
    "start_time": "2023-04-04T14:37:13.333Z"
   },
   {
    "duration": 5,
    "start_time": "2023-04-04T14:37:28.194Z"
   },
   {
    "duration": 6,
    "start_time": "2023-04-04T14:39:12.716Z"
   },
   {
    "duration": 6,
    "start_time": "2023-04-04T14:39:19.693Z"
   },
   {
    "duration": 6,
    "start_time": "2023-04-04T14:40:39.046Z"
   },
   {
    "duration": 5,
    "start_time": "2023-04-04T14:40:45.357Z"
   },
   {
    "duration": 79,
    "start_time": "2023-04-04T14:40:55.526Z"
   },
   {
    "duration": 22,
    "start_time": "2023-04-04T14:44:18.405Z"
   },
   {
    "duration": 20,
    "start_time": "2023-04-04T14:44:20.109Z"
   },
   {
    "duration": 10,
    "start_time": "2023-04-04T14:44:45.613Z"
   },
   {
    "duration": 10,
    "start_time": "2023-04-04T14:44:49.557Z"
   },
   {
    "duration": 8,
    "start_time": "2023-04-04T14:44:52.629Z"
   },
   {
    "duration": 404,
    "start_time": "2023-04-04T14:44:58.254Z"
   },
   {
    "duration": 29,
    "start_time": "2023-04-04T14:44:58.660Z"
   },
   {
    "duration": 3,
    "start_time": "2023-04-04T14:44:58.690Z"
   },
   {
    "duration": 39,
    "start_time": "2023-04-04T14:44:58.694Z"
   },
   {
    "duration": 9,
    "start_time": "2023-04-04T14:44:58.734Z"
   },
   {
    "duration": 13,
    "start_time": "2023-04-04T14:44:58.745Z"
   },
   {
    "duration": 20,
    "start_time": "2023-04-04T14:44:58.759Z"
   },
   {
    "duration": 720,
    "start_time": "2023-04-04T14:44:58.780Z"
   },
   {
    "duration": 47,
    "start_time": "2023-04-04T14:44:59.501Z"
   },
   {
    "duration": 20,
    "start_time": "2023-04-04T14:44:59.549Z"
   },
   {
    "duration": 4,
    "start_time": "2023-04-04T14:44:59.570Z"
   },
   {
    "duration": 10,
    "start_time": "2023-04-04T14:44:59.575Z"
   },
   {
    "duration": 12,
    "start_time": "2023-04-04T14:44:59.587Z"
   },
   {
    "duration": 14,
    "start_time": "2023-04-04T14:44:59.605Z"
   },
   {
    "duration": 11,
    "start_time": "2023-04-04T14:44:59.621Z"
   },
   {
    "duration": 7,
    "start_time": "2023-04-04T14:44:59.633Z"
   },
   {
    "duration": 9,
    "start_time": "2023-04-04T14:44:59.641Z"
   },
   {
    "duration": 5,
    "start_time": "2023-04-04T14:44:59.652Z"
   },
   {
    "duration": 13,
    "start_time": "2023-04-04T14:44:59.659Z"
   },
   {
    "duration": 8,
    "start_time": "2023-04-04T14:44:59.673Z"
   },
   {
    "duration": 8,
    "start_time": "2023-04-04T14:44:59.683Z"
   },
   {
    "duration": 11,
    "start_time": "2023-04-04T14:44:59.692Z"
   },
   {
    "duration": 12,
    "start_time": "2023-04-04T14:44:59.705Z"
   },
   {
    "duration": 7,
    "start_time": "2023-04-04T14:44:59.718Z"
   },
   {
    "duration": 162,
    "start_time": "2023-04-04T14:44:59.727Z"
   },
   {
    "duration": 102,
    "start_time": "2023-04-04T14:44:59.891Z"
   },
   {
    "duration": 6,
    "start_time": "2023-04-04T14:44:59.994Z"
   },
   {
    "duration": 42,
    "start_time": "2023-04-04T14:45:00.001Z"
   },
   {
    "duration": 73,
    "start_time": "2023-04-04T14:45:00.045Z"
   },
   {
    "duration": 289,
    "start_time": "2023-04-04T14:45:00.120Z"
   },
   {
    "duration": 204,
    "start_time": "2023-04-04T14:45:00.411Z"
   },
   {
    "duration": 5,
    "start_time": "2023-04-04T14:45:00.617Z"
   },
   {
    "duration": 358,
    "start_time": "2023-04-04T14:45:00.623Z"
   },
   {
    "duration": 4,
    "start_time": "2023-04-04T14:45:00.983Z"
   },
   {
    "duration": 25,
    "start_time": "2023-04-04T14:45:00.988Z"
   },
   {
    "duration": 213,
    "start_time": "2023-04-04T14:45:01.015Z"
   },
   {
    "duration": 6,
    "start_time": "2023-04-04T14:45:01.230Z"
   },
   {
    "duration": 351,
    "start_time": "2023-04-04T14:45:01.238Z"
   },
   {
    "duration": 7,
    "start_time": "2023-04-04T14:45:01.590Z"
   },
   {
    "duration": 42,
    "start_time": "2023-04-04T14:45:01.599Z"
   },
   {
    "duration": 170,
    "start_time": "2023-04-04T14:45:01.645Z"
   },
   {
    "duration": 4,
    "start_time": "2023-04-04T14:45:01.817Z"
   },
   {
    "duration": 175,
    "start_time": "2023-04-04T14:45:01.823Z"
   },
   {
    "duration": 4,
    "start_time": "2023-04-04T14:45:02.000Z"
   },
   {
    "duration": 45,
    "start_time": "2023-04-04T14:45:02.006Z"
   },
   {
    "duration": 71,
    "start_time": "2023-04-04T14:45:02.053Z"
   },
   {
    "duration": 47,
    "start_time": "2023-04-04T14:45:02.126Z"
   },
   {
    "duration": 62,
    "start_time": "2023-04-04T14:45:02.174Z"
   },
   {
    "duration": 44,
    "start_time": "2023-04-04T14:45:02.237Z"
   },
   {
    "duration": 74,
    "start_time": "2023-04-04T14:45:02.282Z"
   },
   {
    "duration": 36,
    "start_time": "2023-04-04T14:45:02.358Z"
   },
   {
    "duration": 82,
    "start_time": "2023-04-04T14:45:02.395Z"
   },
   {
    "duration": 88,
    "start_time": "2023-04-04T14:45:02.479Z"
   },
   {
    "duration": 89,
    "start_time": "2023-04-04T14:45:02.569Z"
   },
   {
    "duration": 72,
    "start_time": "2023-04-04T14:45:02.659Z"
   },
   {
    "duration": 3,
    "start_time": "2023-04-04T14:45:02.733Z"
   },
   {
    "duration": 19,
    "start_time": "2023-04-04T14:45:02.738Z"
   },
   {
    "duration": 35,
    "start_time": "2023-04-04T14:45:02.758Z"
   },
   {
    "duration": 9,
    "start_time": "2023-04-04T14:45:02.795Z"
   },
   {
    "duration": 39,
    "start_time": "2023-04-04T14:45:02.806Z"
   },
   {
    "duration": 34,
    "start_time": "2023-04-04T14:45:02.847Z"
   },
   {
    "duration": 38,
    "start_time": "2023-04-04T14:45:02.882Z"
   },
   {
    "duration": 37,
    "start_time": "2023-04-04T14:45:02.921Z"
   },
   {
    "duration": 29,
    "start_time": "2023-04-04T14:45:02.959Z"
   },
   {
    "duration": 35,
    "start_time": "2023-04-04T14:45:02.990Z"
   },
   {
    "duration": 4,
    "start_time": "2023-04-04T14:45:03.026Z"
   },
   {
    "duration": 27,
    "start_time": "2023-04-04T14:45:03.031Z"
   },
   {
    "duration": 15,
    "start_time": "2023-04-04T14:45:03.059Z"
   },
   {
    "duration": 8,
    "start_time": "2023-04-04T14:45:32.261Z"
   },
   {
    "duration": 7,
    "start_time": "2023-04-04T14:45:40.893Z"
   },
   {
    "duration": 8,
    "start_time": "2023-04-04T14:45:48.629Z"
   },
   {
    "duration": 19,
    "start_time": "2023-04-04T14:46:45.501Z"
   },
   {
    "duration": 410,
    "start_time": "2023-04-04T15:32:17.403Z"
   },
   {
    "duration": 30,
    "start_time": "2023-04-04T15:32:17.815Z"
   },
   {
    "duration": 4,
    "start_time": "2023-04-04T15:32:17.847Z"
   },
   {
    "duration": 60,
    "start_time": "2023-04-04T15:32:17.854Z"
   },
   {
    "duration": 25,
    "start_time": "2023-04-04T15:32:17.916Z"
   },
   {
    "duration": 5,
    "start_time": "2023-04-04T15:32:17.943Z"
   },
   {
    "duration": 27,
    "start_time": "2023-04-04T15:32:17.950Z"
   },
   {
    "duration": 749,
    "start_time": "2023-04-04T15:32:17.979Z"
   },
   {
    "duration": 50,
    "start_time": "2023-04-04T15:32:18.730Z"
   },
   {
    "duration": 21,
    "start_time": "2023-04-04T15:32:18.783Z"
   },
   {
    "duration": 8,
    "start_time": "2023-04-04T15:32:18.805Z"
   },
   {
    "duration": 13,
    "start_time": "2023-04-04T15:32:18.814Z"
   },
   {
    "duration": 25,
    "start_time": "2023-04-04T15:32:18.829Z"
   },
   {
    "duration": 23,
    "start_time": "2023-04-04T15:32:18.856Z"
   },
   {
    "duration": 13,
    "start_time": "2023-04-04T15:32:18.881Z"
   },
   {
    "duration": 60,
    "start_time": "2023-04-04T15:32:18.896Z"
   },
   {
    "duration": 30,
    "start_time": "2023-04-04T15:32:18.958Z"
   },
   {
    "duration": 10,
    "start_time": "2023-04-04T15:32:18.990Z"
   },
   {
    "duration": 19,
    "start_time": "2023-04-04T15:32:19.002Z"
   },
   {
    "duration": 12,
    "start_time": "2023-04-04T15:32:19.023Z"
   },
   {
    "duration": 25,
    "start_time": "2023-04-04T15:32:19.037Z"
   },
   {
    "duration": 16,
    "start_time": "2023-04-04T15:32:19.064Z"
   },
   {
    "duration": 13,
    "start_time": "2023-04-04T15:32:19.082Z"
   },
   {
    "duration": 15,
    "start_time": "2023-04-04T15:32:19.097Z"
   },
   {
    "duration": 186,
    "start_time": "2023-04-04T15:32:19.113Z"
   },
   {
    "duration": 140,
    "start_time": "2023-04-04T15:32:19.300Z"
   },
   {
    "duration": 9,
    "start_time": "2023-04-04T15:32:19.442Z"
   },
   {
    "duration": 9,
    "start_time": "2023-04-04T15:32:19.456Z"
   },
   {
    "duration": 63,
    "start_time": "2023-04-04T15:32:19.467Z"
   },
   {
    "duration": 362,
    "start_time": "2023-04-04T15:32:19.532Z"
   },
   {
    "duration": 270,
    "start_time": "2023-04-04T15:32:19.896Z"
   },
   {
    "duration": 6,
    "start_time": "2023-04-04T15:32:20.168Z"
   },
   {
    "duration": 342,
    "start_time": "2023-04-04T15:32:20.183Z"
   },
   {
    "duration": 4,
    "start_time": "2023-04-04T15:32:20.526Z"
   },
   {
    "duration": 22,
    "start_time": "2023-04-04T15:32:20.532Z"
   },
   {
    "duration": 257,
    "start_time": "2023-04-04T15:32:20.556Z"
   },
   {
    "duration": 7,
    "start_time": "2023-04-04T15:32:20.815Z"
   },
   {
    "duration": 373,
    "start_time": "2023-04-04T15:32:20.824Z"
   },
   {
    "duration": 6,
    "start_time": "2023-04-04T15:32:21.199Z"
   },
   {
    "duration": 22,
    "start_time": "2023-04-04T15:32:21.207Z"
   },
   {
    "duration": 152,
    "start_time": "2023-04-04T15:32:21.231Z"
   },
   {
    "duration": 6,
    "start_time": "2023-04-04T15:32:21.385Z"
   },
   {
    "duration": 159,
    "start_time": "2023-04-04T15:32:21.393Z"
   },
   {
    "duration": 7,
    "start_time": "2023-04-04T15:32:21.554Z"
   },
   {
    "duration": 38,
    "start_time": "2023-04-04T15:32:21.562Z"
   },
   {
    "duration": 63,
    "start_time": "2023-04-04T15:32:21.603Z"
   },
   {
    "duration": 46,
    "start_time": "2023-04-04T15:32:21.668Z"
   },
   {
    "duration": 77,
    "start_time": "2023-04-04T15:32:21.716Z"
   },
   {
    "duration": 49,
    "start_time": "2023-04-04T15:32:21.795Z"
   },
   {
    "duration": 98,
    "start_time": "2023-04-04T15:32:21.846Z"
   },
   {
    "duration": 47,
    "start_time": "2023-04-04T15:32:21.946Z"
   },
   {
    "duration": 92,
    "start_time": "2023-04-04T15:32:21.994Z"
   },
   {
    "duration": 98,
    "start_time": "2023-04-04T15:32:22.088Z"
   },
   {
    "duration": 104,
    "start_time": "2023-04-04T15:32:22.189Z"
   },
   {
    "duration": 142,
    "start_time": "2023-04-04T15:32:22.295Z"
   },
   {
    "duration": 31,
    "start_time": "2023-04-04T15:32:22.439Z"
   },
   {
    "duration": 46,
    "start_time": "2023-04-04T15:32:22.473Z"
   },
   {
    "duration": 65,
    "start_time": "2023-04-04T15:32:22.521Z"
   },
   {
    "duration": 31,
    "start_time": "2023-04-04T15:32:22.588Z"
   },
   {
    "duration": 73,
    "start_time": "2023-04-04T15:32:22.622Z"
   },
   {
    "duration": 42,
    "start_time": "2023-04-04T15:32:22.696Z"
   },
   {
    "duration": 45,
    "start_time": "2023-04-04T15:32:22.740Z"
   },
   {
    "duration": 54,
    "start_time": "2023-04-04T15:32:22.787Z"
   },
   {
    "duration": 90,
    "start_time": "2023-04-04T15:32:22.843Z"
   },
   {
    "duration": 73,
    "start_time": "2023-04-04T15:32:22.935Z"
   },
   {
    "duration": 6,
    "start_time": "2023-04-04T15:32:23.010Z"
   },
   {
    "duration": 42,
    "start_time": "2023-04-04T15:32:23.018Z"
   },
   {
    "duration": 47,
    "start_time": "2023-04-04T15:32:23.061Z"
   },
   {
    "duration": 2002,
    "start_time": "2023-04-04T15:47:45.166Z"
   },
   {
    "duration": 4,
    "start_time": "2023-04-04T15:48:01.041Z"
   },
   {
    "duration": 5,
    "start_time": "2023-04-04T15:48:06.048Z"
   },
   {
    "duration": 2,
    "start_time": "2023-04-04T15:48:13.713Z"
   },
   {
    "duration": 4,
    "start_time": "2023-04-04T15:48:23.425Z"
   },
   {
    "duration": 3,
    "start_time": "2023-04-04T15:49:27.504Z"
   }
  ],
  "kernelspec": {
   "display_name": "Python 3 (ipykernel)",
   "language": "python",
   "name": "python3"
  },
  "language_info": {
   "codemirror_mode": {
    "name": "ipython",
    "version": 3
   },
   "file_extension": ".py",
   "mimetype": "text/x-python",
   "name": "python",
   "nbconvert_exporter": "python",
   "pygments_lexer": "ipython3",
   "version": "3.9.15"
  },
  "toc": {
   "base_numbering": 1,
   "nav_menu": {},
   "number_sections": true,
   "sideBar": true,
   "skip_h1_title": true,
   "title_cell": "Содержание",
   "title_sidebar": "Contents",
   "toc_cell": false,
   "toc_position": {
    "height": "calc(100% - 180px)",
    "left": "10px",
    "top": "150px",
    "width": "364px"
   },
   "toc_section_display": true,
   "toc_window_display": true
  }
 },
 "nbformat": 4,
 "nbformat_minor": 2
}
